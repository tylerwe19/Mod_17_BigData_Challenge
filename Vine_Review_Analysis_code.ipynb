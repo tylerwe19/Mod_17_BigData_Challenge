{
  "cells": [
    {
      "cell_type": "markdown",
      "metadata": {
        "id": "view-in-github",
        "colab_type": "text"
      },
      "source": [
        "<a href=\"https://colab.research.google.com/github/tylerwe19/Mod_17_BigData_Challenge/blob/main/Vine_Review_Analysis_code.ipynb\" target=\"_parent\"><img src=\"https://colab.research.google.com/assets/colab-badge.svg\" alt=\"Open In Colab\"/></a>"
      ]
    },
    {
      "cell_type": "code",
      "execution_count": 1,
      "metadata": {
        "colab": {
          "base_uri": "https://localhost:8080/"
        },
        "id": "V58rxea0HqSa",
        "outputId": "6092462c-1910-46ea-f684-a44aef0b1985"
      },
      "outputs": [
        {
          "output_type": "stream",
          "name": "stdout",
          "text": [
            "\r0% [Working]\r            \rHit:1 https://cloud.r-project.org/bin/linux/ubuntu focal-cran40/ InRelease\n",
            "\r0% [Connecting to archive.ubuntu.com (185.125.190.39)] [Connecting to security.\r                                                                               \rHit:2 http://archive.ubuntu.com/ubuntu focal InRelease\n",
            "\r0% [Waiting for headers] [Waiting for headers] [Waiting for headers] [Waiting f\r                                                                               \rHit:3 http://ppa.launchpad.net/c2d4u.team/c2d4u4.0+/ubuntu focal InRelease\n",
            "\r0% [Waiting for headers] [Waiting for headers] [Waiting for headers] [Connectin\r                                                                               \rGet:4 http://security.ubuntu.com/ubuntu focal-security InRelease [114 kB]\n",
            "\r0% [Waiting for headers] [4 InRelease 2,586 B/114 kB 2%] [Waiting for headers] \r                                                                               \rIgn:5 https://developer.download.nvidia.com/compute/machine-learning/repos/ubuntu2004/x86_64  InRelease\n",
            "Hit:6 https://developer.download.nvidia.com/compute/cuda/repos/ubuntu2004/x86_64  InRelease\n",
            "Hit:7 https://developer.download.nvidia.com/compute/machine-learning/repos/ubuntu2004/x86_64  Release\n",
            "Get:8 http://archive.ubuntu.com/ubuntu focal-updates InRelease [114 kB]\n",
            "Hit:9 http://ppa.launchpad.net/cran/libgit2/ubuntu focal InRelease\n",
            "Hit:10 http://ppa.launchpad.net/deadsnakes/ppa/ubuntu focal InRelease\n",
            "Get:11 http://archive.ubuntu.com/ubuntu focal-backports InRelease [108 kB]\n",
            "Hit:12 http://ppa.launchpad.net/graphics-drivers/ppa/ubuntu focal InRelease\n",
            "Hit:14 http://ppa.launchpad.net/ubuntugis/ppa/ubuntu focal InRelease\n",
            "Fetched 336 kB in 1s (254 kB/s)\n",
            "Reading package lists... Done\n"
          ]
        }
      ],
      "source": [
        "import os\n",
        "# Find the latest version of spark 3.2 from http://www.apache.org/dist/spark/ and enter as the spark version\n",
        "# For example:\n",
        "# spark_version = 'spark-3.2.3'\n",
        "spark_version = 'spark-3.2.3'\n",
        "os.environ['SPARK_VERSION']=spark_version\n",
        "\n",
        "# Install Spark and Java\n",
        "!apt-get update\n",
        "!apt-get install openjdk-11-jdk-headless -qq > /dev/null\n",
        "!wget -q http://www.apache.org/dist/spark/$SPARK_VERSION/$SPARK_VERSION-bin-hadoop2.7.tgz\n",
        "!tar xf $SPARK_VERSION-bin-hadoop2.7.tgz\n",
        "!pip install -q findspark\n",
        "\n",
        "# Set Environment Variables\n",
        "import os\n",
        "os.environ[\"JAVA_HOME\"] = \"/usr/lib/jvm/java-11-openjdk-amd64\"\n",
        "os.environ[\"SPARK_HOME\"] = f\"/content/{spark_version}-bin-hadoop2.7\"\n",
        "\n",
        "# Start a SparkSession\n",
        "import findspark\n",
        "findspark.init()"
      ]
    },
    {
      "cell_type": "code",
      "execution_count": 2,
      "metadata": {
        "colab": {
          "base_uri": "https://localhost:8080/"
        },
        "id": "_xKwTpATHqSe",
        "outputId": "f4807dcf-4042-4852-b0e4-6aed2b59e961"
      },
      "outputs": [
        {
          "output_type": "stream",
          "name": "stdout",
          "text": [
            "--2023-03-06 04:03:30--  https://jdbc.postgresql.org/download/postgresql-42.2.16.jar\n",
            "Resolving jdbc.postgresql.org (jdbc.postgresql.org)... 72.32.157.228, 2001:4800:3e1:1::228\n",
            "Connecting to jdbc.postgresql.org (jdbc.postgresql.org)|72.32.157.228|:443... connected.\n",
            "HTTP request sent, awaiting response... 200 OK\n",
            "Length: 1002883 (979K) [application/java-archive]\n",
            "Saving to: ‘postgresql-42.2.16.jar.1’\n",
            "\n",
            "postgresql-42.2.16. 100%[===================>] 979.38K  5.55MB/s    in 0.2s    \n",
            "\n",
            "2023-03-06 04:03:31 (5.55 MB/s) - ‘postgresql-42.2.16.jar.1’ saved [1002883/1002883]\n",
            "\n"
          ]
        }
      ],
      "source": [
        "# Download the Postgres driver that will allow Spark to interact with Postgres.\n",
        "!wget https://jdbc.postgresql.org/download/postgresql-42.2.16.jar"
      ]
    },
    {
      "cell_type": "code",
      "execution_count": 3,
      "metadata": {
        "id": "MMqDAjVS0KN9"
      },
      "outputs": [],
      "source": [
        "from pyspark.sql import SparkSession\n",
        "spark = SparkSession.builder.appName(\"M17-Amazon-Challenge\").config(\"spark.driver.extraClassPath\",\"/content/postgresql-42.2.16.jar\").getOrCreate()"
      ]
    },
    {
      "cell_type": "markdown",
      "metadata": {
        "id": "cyBsySGuY-9V"
      },
      "source": [
        "### Load Amazon Data into Spark DataFrame"
      ]
    },
    {
      "cell_type": "code",
      "execution_count": 4,
      "metadata": {
        "id": "CtCmBhQJY-9Z",
        "colab": {
          "base_uri": "https://localhost:8080/"
        },
        "outputId": "9bafb544-c6f0-4c35-86db-70002a5ffe21"
      },
      "outputs": [
        {
          "output_type": "stream",
          "name": "stdout",
          "text": [
            "+-----------+-----------+--------------+----------+--------------+--------------------+----------------+-----------+-------------+-----------+----+-----------------+--------------------+--------------------+-----------+\n",
            "|marketplace|customer_id|     review_id|product_id|product_parent|       product_title|product_category|star_rating|helpful_votes|total_votes|vine|verified_purchase|     review_headline|         review_body|review_date|\n",
            "+-----------+-----------+--------------+----------+--------------+--------------------+----------------+-----------+-------------+-----------+----+-----------------+--------------------+--------------------+-----------+\n",
            "|         US|   48945260|R1WBPB8MDCCN8F|B012P7UPSM|     409940130|Chicago Blackhawk...|          Sports|          5|            0|          0|   N|                N|   LOVE IT. 6 stars!|Bought this last ...| 2015-08-31|\n",
            "|         US|    5782091|R32M0YEWV77XG8|B001GQ3VHG|     657746679|Copag Poker Size ...|          Sports|          5|            1|          1|   N|                Y|       Shipped fast.|These are the bes...| 2015-08-31|\n",
            "|         US|   45813853| RR8V7WR27NXJ5|B008VS8M58|     962442336|Baoer 223 5.56x45...|          Sports|          1|            0|          0|   N|                Y|Good idea if it w...|It looks good, th...| 2015-08-31|\n",
            "|         US|    1593730|R1MHO5V9Z932AY|B005F06F4U|      74305227|All Terrain Tackl...|          Sports|          5|            0|          0|   N|                Y|          Five Stars|           Great jig| 2015-08-31|\n",
            "|         US|   29605511|R16PD71086BD2V|B010T4IE2C|     787185588|Swim Cap - 3 Pack...|          Sports|          5|            0|          1|   N|                N|Great quality sil...|I love swimming i...| 2015-08-31|\n",
            "|         US|   11112959|R1Z8IFGWTRWXT6|B004RKJGLS|      94127483|adidas Men's Spor...|          Sports|          3|            0|          0|   N|                Y|Love everything a...|Love everything a...| 2015-08-31|\n",
            "|         US|     108031|R3AUMSHAW73HWN|B005V3DCBU|     526977496|Nike Men's Perfor...|          Sports|          4|            2|          3|   N|                N|          Four Stars|not the best sock...| 2015-08-31|\n",
            "|         US|   13981540|R2KWDWFOHGX6FL|B00MHT9WN8|      26521265|Green Bay Packers...|          Sports|          5|            0|          0|   N|                Y|          Five Stars|             Love it| 2015-08-31|\n",
            "|         US|   37993909|R3H9543FWBWFBU|B001CSIRQ8|     652431165|Isokinetics Inc. ...|          Sports|          5|            1|          1|   N|                Y|can't wait to use it|Unfortunately I h...| 2015-08-31|\n",
            "|         US|   26040213| RUANXOQ9W3OU5|B001KZ3NOO|     635861713|Aottop Quality El...|          Sports|          5|            0|          0|   N|                Y|great product, ac...|fast shipping , g...| 2015-08-31|\n",
            "|         US|   34657602|R31673RTGEZSW7|B00005RCQS|      72099763|Everlast 2'x6' Fo...|          Sports|          5|            2|          2|   N|                Y|this mat is a pre...|If you have a ter...| 2015-08-31|\n",
            "|         US|   14346192|R22OQLFSH42RCM|B00FA7RWVI|     757354022|OGIO Men's Shredd...|          Sports|          5|            1|          1|   N|                Y|  Versatile Golf Bag|Love this golf ba...| 2015-08-31|\n",
            "|         US|   38782687|R12LEL4F3TSZUJ|B000MMH2HU|     272402599|Blue Sea Systems ...|          Sports|          5|            2|          2|   N|                Y|Great AC Main Bre...|Perfect mounting ...| 2015-08-31|\n",
            "|         US|   27138575|R2L9XWD03072NI|B00WJOATDS|     375070208|Zengi AR15 45 Deg...|          Sports|          5|            1|          2|   N|                Y|   Nice, some quirks|For the cost you ...| 2015-08-31|\n",
            "|         US|   11838771|R2K0U91HIACANO|B00BOM2JNY|     639666785|Black Mountain Pr...|          Sports|          5|            0|          0|   N|                N|55 cm - Good qual...|The ball is very ...| 2015-08-31|\n",
            "|         US|     535800|R29SP6MBT7MXG7|B00OD5GAFM|      38715442|Trijicon VCOG 1-6...|          Sports|          4|            3|          3|   N|                Y|    Very nice scope.|Very nice scope.....| 2015-08-31|\n",
            "|         US|   23156579|R31XREAAMATEPY|B00CAHDC1K|      57088652|Naruto Headband f...|          Sports|          5|            0|          0|   N|                Y|was for my son an...|           This item| 2015-08-31|\n",
            "|         US|   48107879|R2116AVB87SO38|B004NLHXLG|     114125984|Under Armour Men'...|          Sports|          5|            0|          0|   N|                Y|          Five Stars|greatest socks i ...| 2015-08-31|\n",
            "|         US|   27260960|R3RDVBB6O0X3HW|B00L7OANWI|     883962979|Yes4All Deep Tiss...|          Sports|          5|            0|          0|   N|                Y|          Five Stars|Perfect for home ...| 2015-08-31|\n",
            "|         US|   39537314|R3LW5T149LKKQM|B0085PPSIQ|     691479969|Lansky PS-MED01 B...|          Sports|          4|            0|          0|   N|                Y|A bit heavy for p...|Very good product...| 2015-08-31|\n",
            "+-----------+-----------+--------------+----------+--------------+--------------------+----------------+-----------+-------------+-----------+----+-----------------+--------------------+--------------------+-----------+\n",
            "only showing top 20 rows\n",
            "\n"
          ]
        }
      ],
      "source": [
        "from pyspark import SparkFiles\n",
        "url = \"https://s3.amazonaws.com/amazon-reviews-pds/tsv/amazon_reviews_us_Sports_v1_00.tsv.gz\"\n",
        "spark.sparkContext.addFile(url)\n",
        "df = spark.read.option(\"encoding\", \"UTF-8\").csv(SparkFiles.get(\"\"), sep=\"\\t\", header=True, inferSchema=True)\n",
        "df.show()"
      ]
    },
    {
      "cell_type": "code",
      "source": [
        "df.count()"
      ],
      "metadata": {
        "colab": {
          "base_uri": "https://localhost:8080/"
        },
        "id": "7o4MGT-IYzhb",
        "outputId": "9155ab1b-bba4-484a-ec1f-5128b455ddba"
      },
      "execution_count": 5,
      "outputs": [
        {
          "output_type": "execute_result",
          "data": {
            "text/plain": [
              "4850360"
            ]
          },
          "metadata": {},
          "execution_count": 5
        }
      ]
    },
    {
      "cell_type": "markdown",
      "metadata": {
        "id": "2yUSe55VY-9t"
      },
      "source": [
        "### Create DataFrames to match tables"
      ]
    },
    {
      "cell_type": "code",
      "execution_count": 6,
      "metadata": {
        "id": "C8REmY1aY-9u",
        "colab": {
          "base_uri": "https://localhost:8080/"
        },
        "outputId": "53fb993a-90d6-40a0-cf19-e09812718508"
      },
      "outputs": [
        {
          "output_type": "stream",
          "name": "stdout",
          "text": [
            "+-----------+-----------+--------------+----------+--------------+--------------------+----------------+-----------+-------------+-----------+----+-----------------+--------------------+--------------------+-----------+\n",
            "|marketplace|customer_id|     review_id|product_id|product_parent|       product_title|product_category|star_rating|helpful_votes|total_votes|vine|verified_purchase|     review_headline|         review_body|review_date|\n",
            "+-----------+-----------+--------------+----------+--------------+--------------------+----------------+-----------+-------------+-----------+----+-----------------+--------------------+--------------------+-----------+\n",
            "|         US|   48945260|R1WBPB8MDCCN8F|B012P7UPSM|     409940130|Chicago Blackhawk...|          Sports|          5|            0|          0|   N|                N|   LOVE IT. 6 stars!|Bought this last ...| 2015-08-31|\n",
            "|         US|    5782091|R32M0YEWV77XG8|B001GQ3VHG|     657746679|Copag Poker Size ...|          Sports|          5|            1|          1|   N|                Y|       Shipped fast.|These are the bes...| 2015-08-31|\n",
            "|         US|   45813853| RR8V7WR27NXJ5|B008VS8M58|     962442336|Baoer 223 5.56x45...|          Sports|          1|            0|          0|   N|                Y|Good idea if it w...|It looks good, th...| 2015-08-31|\n",
            "|         US|    1593730|R1MHO5V9Z932AY|B005F06F4U|      74305227|All Terrain Tackl...|          Sports|          5|            0|          0|   N|                Y|          Five Stars|           Great jig| 2015-08-31|\n",
            "|         US|   29605511|R16PD71086BD2V|B010T4IE2C|     787185588|Swim Cap - 3 Pack...|          Sports|          5|            0|          1|   N|                N|Great quality sil...|I love swimming i...| 2015-08-31|\n",
            "+-----------+-----------+--------------+----------+--------------+--------------------+----------------+-----------+-------------+-----------+----+-----------------+--------------------+--------------------+-----------+\n",
            "only showing top 5 rows\n",
            "\n"
          ]
        }
      ],
      "source": [
        "from pyspark.sql.functions import to_date,count\n",
        "# Read in the Review dataset as a DataFrame\n",
        "df.show(5)"
      ]
    },
    {
      "cell_type": "code",
      "execution_count": 7,
      "metadata": {
        "id": "lzMmkdKmY--D",
        "colab": {
          "base_uri": "https://localhost:8080/"
        },
        "outputId": "0dc0e8ee-be16-4390-80bc-8e4f96f692b8"
      },
      "outputs": [
        {
          "output_type": "stream",
          "name": "stdout",
          "text": [
            "+--------------+-----------+-------------+-----------+----+-----------------+\n",
            "|     review_id|star_rating|helpful_votes|total_votes|vine|verified_purchase|\n",
            "+--------------+-----------+-------------+-----------+----+-----------------+\n",
            "|R1WBPB8MDCCN8F|          5|            0|          0|   N|                N|\n",
            "|R32M0YEWV77XG8|          5|            1|          1|   N|                Y|\n",
            "| RR8V7WR27NXJ5|          1|            0|          0|   N|                Y|\n",
            "|R1MHO5V9Z932AY|          5|            0|          0|   N|                Y|\n",
            "|R16PD71086BD2V|          5|            0|          1|   N|                N|\n",
            "+--------------+-----------+-------------+-----------+----+-----------------+\n",
            "only showing top 5 rows\n",
            "\n"
          ]
        }
      ],
      "source": [
        "# Create the vine_table. DataFrame\n",
        "vine_df = df.select([\"review_id\",\"star_rating\",\"helpful_votes\",\"total_votes\",\"vine\",\"verified_purchase\"])\n",
        "vine_df.show(5)"
      ]
    },
    {
      "cell_type": "code",
      "source": [
        "vine_df.count()"
      ],
      "metadata": {
        "colab": {
          "base_uri": "https://localhost:8080/"
        },
        "id": "lKuWxRbSe8Ka",
        "outputId": "da6f11db-c571-485c-df7f-a0c16c3fc64e"
      },
      "execution_count": 8,
      "outputs": [
        {
          "output_type": "execute_result",
          "data": {
            "text/plain": [
              "4850360"
            ]
          },
          "metadata": {},
          "execution_count": 8
        }
      ]
    },
    {
      "cell_type": "markdown",
      "metadata": {
        "id": "jITZhLkmY--J"
      },
      "source": [
        "### Connect to the AWS RDS instance and write each DataFrame to its table. "
      ]
    },
    {
      "cell_type": "code",
      "execution_count": null,
      "metadata": {
        "id": "7jiUvs1aY--L"
      },
      "outputs": [],
      "source": [
        "# Configure settings for RDS\n",
        "mode = \"append\"\n",
        "jdbc_url=\"jdbc:postgresql://sealab2023-newshow.cem6bfyajguw.us-east-2.rds.amazonaws.com:5432/tyler_evans_mod17Challenge\"\n",
        "config = {\"user\":\"postgres\", \n",
        "          \"password\": \"postgres\", \n",
        "          \"driver\":\"org.postgresql.Driver\"}"
      ]
    },
    {
      "cell_type": "code",
      "execution_count": null,
      "metadata": {
        "id": "XdQknSHLY--e"
      },
      "outputs": [],
      "source": [
        "# Write vine_df to table in RDS\n",
        "# 11 minutes\n",
        "vine_df.write.jdbc(url=jdbc_url, table='vine_table', mode=mode, properties=config)"
      ]
    },
    {
      "cell_type": "markdown",
      "source": [
        "**Determine Bias of Vine Reviews**"
      ],
      "metadata": {
        "id": "KehpkwDqrgLT"
      }
    },
    {
      "cell_type": "code",
      "execution_count": 9,
      "metadata": {
        "id": "Exuo6ebUsCqW",
        "colab": {
          "base_uri": "https://localhost:8080/"
        },
        "outputId": "1a85ccb9-fc3a-4410-fa3b-bb77a7e431c4"
      },
      "outputs": [
        {
          "output_type": "stream",
          "name": "stdout",
          "text": [
            "+-----------+-----------+--------------+----------+--------------+--------------------+----------------+-----------+-------------+-----------+----+-----------------+--------------------+--------------------+-----------+\n",
            "|marketplace|customer_id|     review_id|product_id|product_parent|       product_title|product_category|star_rating|helpful_votes|total_votes|vine|verified_purchase|     review_headline|         review_body|review_date|\n",
            "+-----------+-----------+--------------+----------+--------------+--------------------+----------------+-----------+-------------+-----------+----+-----------------+--------------------+--------------------+-----------+\n",
            "|         US|   37480006|R1B4753QMTD8ON|B00U6AE4BK|     632231911|Maxpedition Chubb...|          Sports|          5|           32|         32|   N|                N|Maxpedition Organ...|As a preamble, ha...| 2015-08-31|\n",
            "|         US|   49868087|R28BVHOEL6GCHZ|B011CCGRX8|     403987913|5 Resistance Loop...|          Sports|          5|           21|         21|   N|                Y|Excellent for Phy...|I purchased these...| 2015-08-31|\n",
            "|         US|    8458598|R27IB4BRKO71I0|B0062Y9BLM|     875168903|Sentry Solutions ...|          Sports|          2|           16|         20|   N|                Y|        Just dont...|So i bought this ...| 2015-08-31|\n",
            "|         US|   23595483| RJ86OW12Y4NRL|B00HMDLAPC|     677548322|NIKE Mercurial Li...|          Sports|          5|          124|        128|   N|                Y|My Shins Exclaim:...|I highly recommen...| 2015-08-31|\n",
            "|         US|   42803974|R3KRABOWCH6ZE4|B003DQTJMI|     330329071|Mountain Man Beav...|          Sports|          1|           48|         65|   N|                Y|                WTF!|Dont get me wrong...| 2015-08-31|\n",
            "|         US|    4247498|R1OAKARA30DIWX|B00467H5YW|     440976014|Sunny Health & Fi...|          Sports|          4|           83|         89|   N|                Y|Good quality bike...|I have been spinn...| 2015-08-31|\n",
            "|         US|   25890930|R36LSV4WQ4VB1K|B010OMQSR2|     193862771|Rhino Tactical Gr...|          Sports|          5|           17|         22|   N|                N|Quality scope by ...|Though I do not o...| 2015-08-31|\n",
            "|         US|   15598507|R18BTOE5UGN7UA|B00VNYCZ78|     387735619|4007527 Desantis ...|          Sports|          5|           26|         28|   N|                Y|Weapon fits perfe...|Weapon fits perfe...| 2015-08-31|\n",
            "|         US|   37283673|R1DXLGDSK2WMLD|B00460IFPW|     200966622|Benjamin High Pre...|          Sports|          4|           22|         22|   N|                N|Don't Blame the P...|I have read many ...| 2015-08-31|\n",
            "|         US|     106776| RZG2OHQ12YYZI|B00DGE4BAW|      70810199|Nike Womens Pro C...|          Sports|          5|           30|         31|   N|                Y|      Very satisfied|I was sort worrie...| 2015-08-31|\n",
            "|         US|   48363662|R1ZPBQCT4DYE4Z|B00AU6EEVU|      13742267|Gamo 611009754 .1...|          Sports|          1|           45|         51|   N|                Y|Horrible Customer...|Horrible customer...| 2015-08-31|\n",
            "|         US|   15757589|R16KLPJUNC9GS7|B002ZUR0EW|     930729095|ASICS Ace Low Pro...|          Sports|          5|           20|         21|   N|                Y|My 13-year-old da...|My 13-year-old da...| 2015-08-31|\n",
            "|         US|   38169469|R3Q0414UJO4BDO|B000EZYT3K|     620569131|Century Original ...|          Sports|          1|           23|         28|   N|                Y|I have to reposit...|I've had this wav...| 2015-08-31|\n",
            "|         US|      94649| RDHDT1Z4R8IOF|B00HPQ22XK|     845220278|Vipertek VTS-195 ...|          Sports|          1|           18|         20|   N|                Y|Short-circuited o...|Short-circuited o...| 2015-08-31|\n",
            "|         US|   33069537|R10BO7KWZNBGL1|B00IK2U3C0|     339142563|Zumba Fitness Max...|          Sports|          4|           23|         24|   N|                Y|Very Fun -- Be Su...|You can see a qui...| 2015-08-31|\n",
            "|         US|   46178267|R1H6DQ1UXL6K8U|B00S0YA5GM|     341888516|Balaclava - Windp...|          Sports|          5|           86|         97|   N|                N|Longer Skull Cap,...|[[VIDEOID:65429b3...| 2015-08-31|\n",
            "|         US|   51238346|R32OMS1LSDRCOB|B0118XMTV0|     454318751|Slendertone Abs A...|          Sports|          4|           27|         31|   Y|                N|Fun and Potential...|I have heard some...| 2015-08-31|\n",
            "|         US|   27447817|R1ABJ5P5XAZ9AW|B00RGAPEMQ|     421395304|Diamond Archery I...|          Sports|          5|          174|        187|   N|                N|Easy to maintain ...|This is not a spe...| 2015-08-31|\n",
            "|         US|     107674|R2RRFZ2YFSJ2OF|B012E92P16|     955885072|Storm Warrior Dou...|          Sports|          5|           27|         27|   N|                Y|awesome money wel...|It works great wi...| 2015-08-31|\n",
            "|         US|   50641517|R19G3LWRFBHDX3|B010MEXZZU|      92869912|Brunswick Tzone D...|          Sports|          1|            4|         42|   N|                Y|            One Star|I can't find the ...| 2015-08-31|\n",
            "+-----------+-----------+--------------+----------+--------------+--------------------+----------------+-----------+-------------+-----------+----+-----------------+--------------------+--------------------+-----------+\n",
            "only showing top 20 rows\n",
            "\n"
          ]
        }
      ],
      "source": [
        "#Create new DF that Filters to total_votes > 20\n",
        "Twentyormoretotalvotes = df.filter(\"total_votes>=20\")\n",
        "Twentyormoretotalvotes.show()"
      ]
    },
    {
      "cell_type": "code",
      "source": [
        "Twentyormoretotalvotes = Twentyormoretotalvotes.withColumn(\"helpful_dividedby_totalvotes\", Twentyormoretotalvotes.helpful_votes/Twentyormoretotalvotes.total_votes)"
      ],
      "metadata": {
        "id": "QLShHBDZtyiU"
      },
      "execution_count": 10,
      "outputs": []
    },
    {
      "cell_type": "code",
      "source": [
        "Twentyormoretotalvotes.show()"
      ],
      "metadata": {
        "colab": {
          "base_uri": "https://localhost:8080/"
        },
        "id": "mmM4o8d_yexF",
        "outputId": "645e3df1-0965-43a7-b2f0-e53092195fab"
      },
      "execution_count": 11,
      "outputs": [
        {
          "output_type": "stream",
          "name": "stdout",
          "text": [
            "+-----------+-----------+--------------+----------+--------------+--------------------+----------------+-----------+-------------+-----------+----+-----------------+--------------------+--------------------+-----------+----------------------------+\n",
            "|marketplace|customer_id|     review_id|product_id|product_parent|       product_title|product_category|star_rating|helpful_votes|total_votes|vine|verified_purchase|     review_headline|         review_body|review_date|helpful_dividedby_totalvotes|\n",
            "+-----------+-----------+--------------+----------+--------------+--------------------+----------------+-----------+-------------+-----------+----+-----------------+--------------------+--------------------+-----------+----------------------------+\n",
            "|         US|   37480006|R1B4753QMTD8ON|B00U6AE4BK|     632231911|Maxpedition Chubb...|          Sports|          5|           32|         32|   N|                N|Maxpedition Organ...|As a preamble, ha...| 2015-08-31|                         1.0|\n",
            "|         US|   49868087|R28BVHOEL6GCHZ|B011CCGRX8|     403987913|5 Resistance Loop...|          Sports|          5|           21|         21|   N|                Y|Excellent for Phy...|I purchased these...| 2015-08-31|                         1.0|\n",
            "|         US|    8458598|R27IB4BRKO71I0|B0062Y9BLM|     875168903|Sentry Solutions ...|          Sports|          2|           16|         20|   N|                Y|        Just dont...|So i bought this ...| 2015-08-31|                         0.8|\n",
            "|         US|   23595483| RJ86OW12Y4NRL|B00HMDLAPC|     677548322|NIKE Mercurial Li...|          Sports|          5|          124|        128|   N|                Y|My Shins Exclaim:...|I highly recommen...| 2015-08-31|                     0.96875|\n",
            "|         US|   42803974|R3KRABOWCH6ZE4|B003DQTJMI|     330329071|Mountain Man Beav...|          Sports|          1|           48|         65|   N|                Y|                WTF!|Dont get me wrong...| 2015-08-31|          0.7384615384615385|\n",
            "|         US|    4247498|R1OAKARA30DIWX|B00467H5YW|     440976014|Sunny Health & Fi...|          Sports|          4|           83|         89|   N|                Y|Good quality bike...|I have been spinn...| 2015-08-31|          0.9325842696629213|\n",
            "|         US|   25890930|R36LSV4WQ4VB1K|B010OMQSR2|     193862771|Rhino Tactical Gr...|          Sports|          5|           17|         22|   N|                N|Quality scope by ...|Though I do not o...| 2015-08-31|          0.7727272727272727|\n",
            "|         US|   15598507|R18BTOE5UGN7UA|B00VNYCZ78|     387735619|4007527 Desantis ...|          Sports|          5|           26|         28|   N|                Y|Weapon fits perfe...|Weapon fits perfe...| 2015-08-31|          0.9285714285714286|\n",
            "|         US|   37283673|R1DXLGDSK2WMLD|B00460IFPW|     200966622|Benjamin High Pre...|          Sports|          4|           22|         22|   N|                N|Don't Blame the P...|I have read many ...| 2015-08-31|                         1.0|\n",
            "|         US|     106776| RZG2OHQ12YYZI|B00DGE4BAW|      70810199|Nike Womens Pro C...|          Sports|          5|           30|         31|   N|                Y|      Very satisfied|I was sort worrie...| 2015-08-31|           0.967741935483871|\n",
            "|         US|   48363662|R1ZPBQCT4DYE4Z|B00AU6EEVU|      13742267|Gamo 611009754 .1...|          Sports|          1|           45|         51|   N|                Y|Horrible Customer...|Horrible customer...| 2015-08-31|          0.8823529411764706|\n",
            "|         US|   15757589|R16KLPJUNC9GS7|B002ZUR0EW|     930729095|ASICS Ace Low Pro...|          Sports|          5|           20|         21|   N|                Y|My 13-year-old da...|My 13-year-old da...| 2015-08-31|          0.9523809523809523|\n",
            "|         US|   38169469|R3Q0414UJO4BDO|B000EZYT3K|     620569131|Century Original ...|          Sports|          1|           23|         28|   N|                Y|I have to reposit...|I've had this wav...| 2015-08-31|          0.8214285714285714|\n",
            "|         US|      94649| RDHDT1Z4R8IOF|B00HPQ22XK|     845220278|Vipertek VTS-195 ...|          Sports|          1|           18|         20|   N|                Y|Short-circuited o...|Short-circuited o...| 2015-08-31|                         0.9|\n",
            "|         US|   33069537|R10BO7KWZNBGL1|B00IK2U3C0|     339142563|Zumba Fitness Max...|          Sports|          4|           23|         24|   N|                Y|Very Fun -- Be Su...|You can see a qui...| 2015-08-31|          0.9583333333333334|\n",
            "|         US|   46178267|R1H6DQ1UXL6K8U|B00S0YA5GM|     341888516|Balaclava - Windp...|          Sports|          5|           86|         97|   N|                N|Longer Skull Cap,...|[[VIDEOID:65429b3...| 2015-08-31|          0.8865979381443299|\n",
            "|         US|   51238346|R32OMS1LSDRCOB|B0118XMTV0|     454318751|Slendertone Abs A...|          Sports|          4|           27|         31|   Y|                N|Fun and Potential...|I have heard some...| 2015-08-31|          0.8709677419354839|\n",
            "|         US|   27447817|R1ABJ5P5XAZ9AW|B00RGAPEMQ|     421395304|Diamond Archery I...|          Sports|          5|          174|        187|   N|                N|Easy to maintain ...|This is not a spe...| 2015-08-31|            0.93048128342246|\n",
            "|         US|     107674|R2RRFZ2YFSJ2OF|B012E92P16|     955885072|Storm Warrior Dou...|          Sports|          5|           27|         27|   N|                Y|awesome money wel...|It works great wi...| 2015-08-31|                         1.0|\n",
            "|         US|   50641517|R19G3LWRFBHDX3|B010MEXZZU|      92869912|Brunswick Tzone D...|          Sports|          1|            4|         42|   N|                Y|            One Star|I can't find the ...| 2015-08-31|         0.09523809523809523|\n",
            "+-----------+-----------+--------------+----------+--------------+--------------------+----------------+-----------+-------------+-----------+----+-----------------+--------------------+--------------------+-----------+----------------------------+\n",
            "only showing top 20 rows\n",
            "\n"
          ]
        }
      ]
    },
    {
      "cell_type": "code",
      "source": [
        "Twentyormoretotalvotes.count()"
      ],
      "metadata": {
        "colab": {
          "base_uri": "https://localhost:8080/"
        },
        "id": "9f4ydBbpB5Na",
        "outputId": "80f3f10e-709a-4e7b-b002-a8a58fdb049d"
      },
      "execution_count": 12,
      "outputs": [
        {
          "output_type": "execute_result",
          "data": {
            "text/plain": [
              "67855"
            ]
          },
          "metadata": {},
          "execution_count": 12
        }
      ]
    },
    {
      "cell_type": "code",
      "source": [
        "Twentyormoretotalvotes.schema"
      ],
      "metadata": {
        "colab": {
          "base_uri": "https://localhost:8080/"
        },
        "id": "DW5P9R4l0GK8",
        "outputId": "3aaf3f69-5c37-420a-d15c-20cbb2fb8588"
      },
      "execution_count": 13,
      "outputs": [
        {
          "output_type": "execute_result",
          "data": {
            "text/plain": [
              "StructType(List(StructField(marketplace,StringType,true),StructField(customer_id,IntegerType,true),StructField(review_id,StringType,true),StructField(product_id,StringType,true),StructField(product_parent,IntegerType,true),StructField(product_title,StringType,true),StructField(product_category,StringType,true),StructField(star_rating,StringType,true),StructField(helpful_votes,IntegerType,true),StructField(total_votes,IntegerType,true),StructField(vine,StringType,true),StructField(verified_purchase,StringType,true),StructField(review_headline,StringType,true),StructField(review_body,StringType,true),StructField(review_date,StringType,true),StructField(helpful_dividedby_totalvotes,DoubleType,true)))"
            ]
          },
          "metadata": {},
          "execution_count": 13
        }
      ]
    },
    {
      "cell_type": "code",
      "source": [
        "# Cast Course_Fees from integer type to float type\n",
        "Twentyormoretotalvotes_df2 = Twentyormoretotalvotes.withColumn(\"helpful_dividedby_totalvotes\", \n",
        "                                  Twentyormoretotalvotes[\"helpful_dividedby_totalvotes\"]\n",
        "                                  .cast('float'))\n",
        "Twentyormoretotalvotes_df2.printSchema()"
      ],
      "metadata": {
        "colab": {
          "base_uri": "https://localhost:8080/"
        },
        "id": "wa69K1uP3L8H",
        "outputId": "f2e0bd4b-d8a9-4bf6-aa9b-697923d4a4f2"
      },
      "execution_count": 14,
      "outputs": [
        {
          "output_type": "stream",
          "name": "stdout",
          "text": [
            "root\n",
            " |-- marketplace: string (nullable = true)\n",
            " |-- customer_id: integer (nullable = true)\n",
            " |-- review_id: string (nullable = true)\n",
            " |-- product_id: string (nullable = true)\n",
            " |-- product_parent: integer (nullable = true)\n",
            " |-- product_title: string (nullable = true)\n",
            " |-- product_category: string (nullable = true)\n",
            " |-- star_rating: string (nullable = true)\n",
            " |-- helpful_votes: integer (nullable = true)\n",
            " |-- total_votes: integer (nullable = true)\n",
            " |-- vine: string (nullable = true)\n",
            " |-- verified_purchase: string (nullable = true)\n",
            " |-- review_headline: string (nullable = true)\n",
            " |-- review_body: string (nullable = true)\n",
            " |-- review_date: string (nullable = true)\n",
            " |-- helpful_dividedby_totalvotes: float (nullable = true)\n",
            "\n"
          ]
        }
      ]
    },
    {
      "cell_type": "code",
      "source": [
        "Twentyormoretotalvotes_df2 = Twentyormoretotalvotes_df2.filter(\"helpful_dividedby_totalvotes >= 0.5\")\n",
        "Twentyormoretotalvotes_df2.show(40)"
      ],
      "metadata": {
        "colab": {
          "base_uri": "https://localhost:8080/"
        },
        "id": "0cMwDJtSvRZe",
        "outputId": "13fa2565-e5c4-4088-fd9e-5fcd6fdc159f"
      },
      "execution_count": 15,
      "outputs": [
        {
          "output_type": "stream",
          "name": "stdout",
          "text": [
            "+-----------+-----------+--------------+----------+--------------+--------------------+----------------+-----------+-------------+-----------+----+-----------------+--------------------+--------------------+-----------+----------------------------+\n",
            "|marketplace|customer_id|     review_id|product_id|product_parent|       product_title|product_category|star_rating|helpful_votes|total_votes|vine|verified_purchase|     review_headline|         review_body|review_date|helpful_dividedby_totalvotes|\n",
            "+-----------+-----------+--------------+----------+--------------+--------------------+----------------+-----------+-------------+-----------+----+-----------------+--------------------+--------------------+-----------+----------------------------+\n",
            "|         US|   37480006|R1B4753QMTD8ON|B00U6AE4BK|     632231911|Maxpedition Chubb...|          Sports|          5|           32|         32|   N|                N|Maxpedition Organ...|As a preamble, ha...| 2015-08-31|                         1.0|\n",
            "|         US|   49868087|R28BVHOEL6GCHZ|B011CCGRX8|     403987913|5 Resistance Loop...|          Sports|          5|           21|         21|   N|                Y|Excellent for Phy...|I purchased these...| 2015-08-31|                         1.0|\n",
            "|         US|    8458598|R27IB4BRKO71I0|B0062Y9BLM|     875168903|Sentry Solutions ...|          Sports|          2|           16|         20|   N|                Y|        Just dont...|So i bought this ...| 2015-08-31|                         0.8|\n",
            "|         US|   23595483| RJ86OW12Y4NRL|B00HMDLAPC|     677548322|NIKE Mercurial Li...|          Sports|          5|          124|        128|   N|                Y|My Shins Exclaim:...|I highly recommen...| 2015-08-31|                     0.96875|\n",
            "|         US|   42803974|R3KRABOWCH6ZE4|B003DQTJMI|     330329071|Mountain Man Beav...|          Sports|          1|           48|         65|   N|                Y|                WTF!|Dont get me wrong...| 2015-08-31|                  0.73846155|\n",
            "|         US|    4247498|R1OAKARA30DIWX|B00467H5YW|     440976014|Sunny Health & Fi...|          Sports|          4|           83|         89|   N|                Y|Good quality bike...|I have been spinn...| 2015-08-31|                   0.9325843|\n",
            "|         US|   25890930|R36LSV4WQ4VB1K|B010OMQSR2|     193862771|Rhino Tactical Gr...|          Sports|          5|           17|         22|   N|                N|Quality scope by ...|Though I do not o...| 2015-08-31|                  0.77272725|\n",
            "|         US|   15598507|R18BTOE5UGN7UA|B00VNYCZ78|     387735619|4007527 Desantis ...|          Sports|          5|           26|         28|   N|                Y|Weapon fits perfe...|Weapon fits perfe...| 2015-08-31|                   0.9285714|\n",
            "|         US|   37283673|R1DXLGDSK2WMLD|B00460IFPW|     200966622|Benjamin High Pre...|          Sports|          4|           22|         22|   N|                N|Don't Blame the P...|I have read many ...| 2015-08-31|                         1.0|\n",
            "|         US|     106776| RZG2OHQ12YYZI|B00DGE4BAW|      70810199|Nike Womens Pro C...|          Sports|          5|           30|         31|   N|                Y|      Very satisfied|I was sort worrie...| 2015-08-31|                   0.9677419|\n",
            "|         US|   48363662|R1ZPBQCT4DYE4Z|B00AU6EEVU|      13742267|Gamo 611009754 .1...|          Sports|          1|           45|         51|   N|                Y|Horrible Customer...|Horrible customer...| 2015-08-31|                  0.88235295|\n",
            "|         US|   15757589|R16KLPJUNC9GS7|B002ZUR0EW|     930729095|ASICS Ace Low Pro...|          Sports|          5|           20|         21|   N|                Y|My 13-year-old da...|My 13-year-old da...| 2015-08-31|                  0.95238096|\n",
            "|         US|   38169469|R3Q0414UJO4BDO|B000EZYT3K|     620569131|Century Original ...|          Sports|          1|           23|         28|   N|                Y|I have to reposit...|I've had this wav...| 2015-08-31|                   0.8214286|\n",
            "|         US|      94649| RDHDT1Z4R8IOF|B00HPQ22XK|     845220278|Vipertek VTS-195 ...|          Sports|          1|           18|         20|   N|                Y|Short-circuited o...|Short-circuited o...| 2015-08-31|                         0.9|\n",
            "|         US|   33069537|R10BO7KWZNBGL1|B00IK2U3C0|     339142563|Zumba Fitness Max...|          Sports|          4|           23|         24|   N|                Y|Very Fun -- Be Su...|You can see a qui...| 2015-08-31|                   0.9583333|\n",
            "|         US|   46178267|R1H6DQ1UXL6K8U|B00S0YA5GM|     341888516|Balaclava - Windp...|          Sports|          5|           86|         97|   N|                N|Longer Skull Cap,...|[[VIDEOID:65429b3...| 2015-08-31|                  0.88659793|\n",
            "|         US|   51238346|R32OMS1LSDRCOB|B0118XMTV0|     454318751|Slendertone Abs A...|          Sports|          4|           27|         31|   Y|                N|Fun and Potential...|I have heard some...| 2015-08-31|                  0.87096775|\n",
            "|         US|   27447817|R1ABJ5P5XAZ9AW|B00RGAPEMQ|     421395304|Diamond Archery I...|          Sports|          5|          174|        187|   N|                N|Easy to maintain ...|This is not a spe...| 2015-08-31|                  0.93048126|\n",
            "|         US|     107674|R2RRFZ2YFSJ2OF|B012E92P16|     955885072|Storm Warrior Dou...|          Sports|          5|           27|         27|   N|                Y|awesome money wel...|It works great wi...| 2015-08-31|                         1.0|\n",
            "|         US|   19397215| RJ0T139KDORXP|B00HAMJA20|     723592737|Paracord Planet 1...|          Sports|          5|           23|         24|   N|                Y|Great product for...|This was exactly ...| 2015-08-31|                   0.9583333|\n",
            "|         US|   12646947|R30MVK7HP2DW91|B00Z8KBEBQ|     205836280|Earth Pak -Waterp...|          Sports|          5|           84|        124|   N|                Y|best quality dry ...|VERY heavy duty m...| 2015-08-31|                  0.67741936|\n",
            "|         US|   52419471|R2UIAX8RD0JPJT|B00QFLOO4Q|     405637489|Callaway Women's ...|          Sports|          4|           25|         25|   N|                Y|Great for beginni...|I got these for m...| 2015-08-31|                         1.0|\n",
            "|         US|   11909933|  RUCON6HXM398|B010VMA83A|      47944275|Alfamo Cooling To...|          Sports|          5|          390|        403|   N|                N|Best cooling towe...|I have bought oth...| 2015-08-31|                   0.9677419|\n",
            "|         US|   14499497| R4XRDHX028RAG|B00Z8J72Q8|     205836280|Earth Pak -Waterp...|          Sports|          5|           99|        128|   N|                N|Nice Quality! Gre...|Very well constru...| 2015-08-31|                   0.7734375|\n",
            "|         US|   16883134| RJCNYQ6Y5PELI|B00J8SX1VK|     567519515|YETI Roadie 20 Co...|          Sports|          1|           64|         87|   N|                N|Never will buy a ...|Will never buy th...| 2015-08-31|                   0.7356322|\n",
            "|         US|   40033127|R20F8FL4VAQV8Z|B00GPTZW6W|     884104207|Avari A450-261 Ad...|          Sports|          4|           21|         22|   N|                Y|which are good. T...|I would have give...| 2015-08-30|                  0.95454544|\n",
            "|         US|   22065288|R22M4PWW13W3AQ|B00PA4XCBU|     484654603|Ipow 2 Pack Knee ...|          Sports|          1|           21|         27|   N|                Y|WARNING: Seller H...|plastic loops whi...| 2015-08-30|                   0.7777778|\n",
            "|         US|   15615775|R37WSELYLYRBIY|B00ZUABRXO|     324438362|GoSports Giant To...|          Sports|          5|           60|         64|   N|                Y|       Great Product|I own a party ren...| 2015-08-30|                      0.9375|\n",
            "|         US|   24253128|R3SOQ1QIVE3SDD|B00WS3CDQG|     384027702|Buckwheat Hull Fi...|          Sports|          3|           73|         79|   N|                N|A good seat for m...|I bought this cus...| 2015-08-30|                   0.9240506|\n",
            "|         US|   28649219|R2CIKLPKYDQVOR|B0000AY4RE|     960215036|Star brite Waterp...|          Sports|          1|           18|         21|   N|                Y|          Caution!!!|After reading the...| 2015-08-30|                  0.85714287|\n",
            "|         US|   37575267| RMWF3WHC2DN9D|B00XV14U24|     808396108|Mava Sports Leath...|          Sports|          1|           20|         31|   N|                N|       Terrible!!!!!|Fabric between fi...| 2015-08-30|                   0.6451613|\n",
            "|         US|   41949808| RQZHPMMA0RRVA|B000EXLAL6|     926345388|Cold Steel Hand-A...|          Sports|          4|           19|         21|   N|                Y|    Don't do it man!|are you seriously...| 2015-08-30|                   0.9047619|\n",
            "|         US|   50452994| R3PQJG19LMKIY|B013Q0451U|     101736294|Savvy Infusion Fl...|          Sports|          5|           19|         23|   N|                N|It's always hard ...|[[VIDEOID:2535b6d...| 2015-08-30|                  0.82608694|\n",
            "|         US|   15853142|R1IVZRG2D8EV42|B00K37891W|     712435138|Teeter EP-970 Ltd...|          Sports|          4|           23|         23|   N|                Y|     Very impressed!|This product is w...| 2015-08-30|                         1.0|\n",
            "|         US|   34441872| RFVZ0JX28S36O|B00MS36EW0|     703958931|ProForm 25-lb. Ad...|          Sports|          3|           21|         24|   N|                Y|2 - 12.5lbs weights.|Looks pretty good...| 2015-08-30|                       0.875|\n",
            "|         US|   29002143|R11DNXMV1WIVPI|B00JRMZK3E|     672817051|Superbicycle Spor...|          Sports|          4|          108|        108|   N|                Y|Stylish? I suppos...|Received the item...| 2015-08-30|                         1.0|\n",
            "|         US|   14304787|R2T8ORXQ0I97QT|B00UT9RV3G|     655410490|Glock Perfection ...|          Sports|          5|           21|         21|   N|                Y|  Perfect range bag.|Well made bag. He...| 2015-08-30|                         1.0|\n",
            "|         US|   16951294|R3FZ39FVWGUSG8|B00MXNYBFW|     436029968|IC ICLOVER 47\" Ex...|          Sports|          5|           24|         27|   N|                Y|Cheap price but a...|Received the IC I...| 2015-08-30|                   0.8888889|\n",
            "|         US|   22231767|R2YB7WAQJETXQN|B00R3NNWXY|     524722037|Buck Knives 0104W...|          Sports|          5|           46|         50|   N|                Y|Does what it's ma...|Bought this after...| 2015-08-30|                        0.92|\n",
            "|         US|   17266118|R2SYXXZJNQNQOR|B00B0E1MB6|     337375436|Benchmade - Bushc...|          Sports|          5|           30|         31|   N|                Y|   Ideal Field Knife|This is a serious...| 2015-08-30|                   0.9677419|\n",
            "+-----------+-----------+--------------+----------+--------------+--------------------+----------------+-----------+-------------+-----------+----+-----------------+--------------------+--------------------+-----------+----------------------------+\n",
            "only showing top 40 rows\n",
            "\n"
          ]
        }
      ]
    },
    {
      "cell_type": "code",
      "source": [
        "Twentyormoretotalvotes_df2.count()"
      ],
      "metadata": {
        "colab": {
          "base_uri": "https://localhost:8080/"
        },
        "id": "RTnoNstpBvHK",
        "outputId": "f1c69b6f-2138-4e4a-8230-6244ab9d1bb2"
      },
      "execution_count": 16,
      "outputs": [
        {
          "output_type": "execute_result",
          "data": {
            "text/plain": [
              "61948"
            ]
          },
          "metadata": {},
          "execution_count": 16
        }
      ]
    },
    {
      "cell_type": "markdown",
      "source": [
        "**Paid - Reviews written as part of the Vine program**"
      ],
      "metadata": {
        "id": "BQDFZcXsJCb5"
      }
    },
    {
      "cell_type": "code",
      "source": [
        "#Filter DF - review was written as part of the Vine Program (Paid)\n",
        "Paid_df = Twentyormoretotalvotes_df2\n",
        "Paid_df.show(80)"
      ],
      "metadata": {
        "colab": {
          "base_uri": "https://localhost:8080/"
        },
        "id": "DhCuy4rgC2BL",
        "outputId": "700da1d5-c18e-487f-a236-f254aa335ceb"
      },
      "execution_count": 20,
      "outputs": [
        {
          "output_type": "stream",
          "name": "stdout",
          "text": [
            "+-----------+-----------+--------------+----------+--------------+--------------------+----------------+-----------+-------------+-----------+----+-----------------+--------------------+--------------------+-----------+----------------------------+\n",
            "|marketplace|customer_id|     review_id|product_id|product_parent|       product_title|product_category|star_rating|helpful_votes|total_votes|vine|verified_purchase|     review_headline|         review_body|review_date|helpful_dividedby_totalvotes|\n",
            "+-----------+-----------+--------------+----------+--------------+--------------------+----------------+-----------+-------------+-----------+----+-----------------+--------------------+--------------------+-----------+----------------------------+\n",
            "|         US|   37480006|R1B4753QMTD8ON|B00U6AE4BK|     632231911|Maxpedition Chubb...|          Sports|          5|           32|         32|   N|                N|Maxpedition Organ...|As a preamble, ha...| 2015-08-31|                         1.0|\n",
            "|         US|   49868087|R28BVHOEL6GCHZ|B011CCGRX8|     403987913|5 Resistance Loop...|          Sports|          5|           21|         21|   N|                Y|Excellent for Phy...|I purchased these...| 2015-08-31|                         1.0|\n",
            "|         US|    8458598|R27IB4BRKO71I0|B0062Y9BLM|     875168903|Sentry Solutions ...|          Sports|          2|           16|         20|   N|                Y|        Just dont...|So i bought this ...| 2015-08-31|                         0.8|\n",
            "|         US|   23595483| RJ86OW12Y4NRL|B00HMDLAPC|     677548322|NIKE Mercurial Li...|          Sports|          5|          124|        128|   N|                Y|My Shins Exclaim:...|I highly recommen...| 2015-08-31|                     0.96875|\n",
            "|         US|   42803974|R3KRABOWCH6ZE4|B003DQTJMI|     330329071|Mountain Man Beav...|          Sports|          1|           48|         65|   N|                Y|                WTF!|Dont get me wrong...| 2015-08-31|                  0.73846155|\n",
            "|         US|    4247498|R1OAKARA30DIWX|B00467H5YW|     440976014|Sunny Health & Fi...|          Sports|          4|           83|         89|   N|                Y|Good quality bike...|I have been spinn...| 2015-08-31|                   0.9325843|\n",
            "|         US|   25890930|R36LSV4WQ4VB1K|B010OMQSR2|     193862771|Rhino Tactical Gr...|          Sports|          5|           17|         22|   N|                N|Quality scope by ...|Though I do not o...| 2015-08-31|                  0.77272725|\n",
            "|         US|   15598507|R18BTOE5UGN7UA|B00VNYCZ78|     387735619|4007527 Desantis ...|          Sports|          5|           26|         28|   N|                Y|Weapon fits perfe...|Weapon fits perfe...| 2015-08-31|                   0.9285714|\n",
            "|         US|   37283673|R1DXLGDSK2WMLD|B00460IFPW|     200966622|Benjamin High Pre...|          Sports|          4|           22|         22|   N|                N|Don't Blame the P...|I have read many ...| 2015-08-31|                         1.0|\n",
            "|         US|     106776| RZG2OHQ12YYZI|B00DGE4BAW|      70810199|Nike Womens Pro C...|          Sports|          5|           30|         31|   N|                Y|      Very satisfied|I was sort worrie...| 2015-08-31|                   0.9677419|\n",
            "|         US|   48363662|R1ZPBQCT4DYE4Z|B00AU6EEVU|      13742267|Gamo 611009754 .1...|          Sports|          1|           45|         51|   N|                Y|Horrible Customer...|Horrible customer...| 2015-08-31|                  0.88235295|\n",
            "|         US|   15757589|R16KLPJUNC9GS7|B002ZUR0EW|     930729095|ASICS Ace Low Pro...|          Sports|          5|           20|         21|   N|                Y|My 13-year-old da...|My 13-year-old da...| 2015-08-31|                  0.95238096|\n",
            "|         US|   38169469|R3Q0414UJO4BDO|B000EZYT3K|     620569131|Century Original ...|          Sports|          1|           23|         28|   N|                Y|I have to reposit...|I've had this wav...| 2015-08-31|                   0.8214286|\n",
            "|         US|      94649| RDHDT1Z4R8IOF|B00HPQ22XK|     845220278|Vipertek VTS-195 ...|          Sports|          1|           18|         20|   N|                Y|Short-circuited o...|Short-circuited o...| 2015-08-31|                         0.9|\n",
            "|         US|   33069537|R10BO7KWZNBGL1|B00IK2U3C0|     339142563|Zumba Fitness Max...|          Sports|          4|           23|         24|   N|                Y|Very Fun -- Be Su...|You can see a qui...| 2015-08-31|                   0.9583333|\n",
            "|         US|   46178267|R1H6DQ1UXL6K8U|B00S0YA5GM|     341888516|Balaclava - Windp...|          Sports|          5|           86|         97|   N|                N|Longer Skull Cap,...|[[VIDEOID:65429b3...| 2015-08-31|                  0.88659793|\n",
            "|         US|   51238346|R32OMS1LSDRCOB|B0118XMTV0|     454318751|Slendertone Abs A...|          Sports|          4|           27|         31|   Y|                N|Fun and Potential...|I have heard some...| 2015-08-31|                  0.87096775|\n",
            "|         US|   27447817|R1ABJ5P5XAZ9AW|B00RGAPEMQ|     421395304|Diamond Archery I...|          Sports|          5|          174|        187|   N|                N|Easy to maintain ...|This is not a spe...| 2015-08-31|                  0.93048126|\n",
            "|         US|     107674|R2RRFZ2YFSJ2OF|B012E92P16|     955885072|Storm Warrior Dou...|          Sports|          5|           27|         27|   N|                Y|awesome money wel...|It works great wi...| 2015-08-31|                         1.0|\n",
            "|         US|   19397215| RJ0T139KDORXP|B00HAMJA20|     723592737|Paracord Planet 1...|          Sports|          5|           23|         24|   N|                Y|Great product for...|This was exactly ...| 2015-08-31|                   0.9583333|\n",
            "|         US|   12646947|R30MVK7HP2DW91|B00Z8KBEBQ|     205836280|Earth Pak -Waterp...|          Sports|          5|           84|        124|   N|                Y|best quality dry ...|VERY heavy duty m...| 2015-08-31|                  0.67741936|\n",
            "|         US|   52419471|R2UIAX8RD0JPJT|B00QFLOO4Q|     405637489|Callaway Women's ...|          Sports|          4|           25|         25|   N|                Y|Great for beginni...|I got these for m...| 2015-08-31|                         1.0|\n",
            "|         US|   11909933|  RUCON6HXM398|B010VMA83A|      47944275|Alfamo Cooling To...|          Sports|          5|          390|        403|   N|                N|Best cooling towe...|I have bought oth...| 2015-08-31|                   0.9677419|\n",
            "|         US|   14499497| R4XRDHX028RAG|B00Z8J72Q8|     205836280|Earth Pak -Waterp...|          Sports|          5|           99|        128|   N|                N|Nice Quality! Gre...|Very well constru...| 2015-08-31|                   0.7734375|\n",
            "|         US|   16883134| RJCNYQ6Y5PELI|B00J8SX1VK|     567519515|YETI Roadie 20 Co...|          Sports|          1|           64|         87|   N|                N|Never will buy a ...|Will never buy th...| 2015-08-31|                   0.7356322|\n",
            "|         US|   40033127|R20F8FL4VAQV8Z|B00GPTZW6W|     884104207|Avari A450-261 Ad...|          Sports|          4|           21|         22|   N|                Y|which are good. T...|I would have give...| 2015-08-30|                  0.95454544|\n",
            "|         US|   22065288|R22M4PWW13W3AQ|B00PA4XCBU|     484654603|Ipow 2 Pack Knee ...|          Sports|          1|           21|         27|   N|                Y|WARNING: Seller H...|plastic loops whi...| 2015-08-30|                   0.7777778|\n",
            "|         US|   15615775|R37WSELYLYRBIY|B00ZUABRXO|     324438362|GoSports Giant To...|          Sports|          5|           60|         64|   N|                Y|       Great Product|I own a party ren...| 2015-08-30|                      0.9375|\n",
            "|         US|   24253128|R3SOQ1QIVE3SDD|B00WS3CDQG|     384027702|Buckwheat Hull Fi...|          Sports|          3|           73|         79|   N|                N|A good seat for m...|I bought this cus...| 2015-08-30|                   0.9240506|\n",
            "|         US|   28649219|R2CIKLPKYDQVOR|B0000AY4RE|     960215036|Star brite Waterp...|          Sports|          1|           18|         21|   N|                Y|          Caution!!!|After reading the...| 2015-08-30|                  0.85714287|\n",
            "|         US|   37575267| RMWF3WHC2DN9D|B00XV14U24|     808396108|Mava Sports Leath...|          Sports|          1|           20|         31|   N|                N|       Terrible!!!!!|Fabric between fi...| 2015-08-30|                   0.6451613|\n",
            "|         US|   41949808| RQZHPMMA0RRVA|B000EXLAL6|     926345388|Cold Steel Hand-A...|          Sports|          4|           19|         21|   N|                Y|    Don't do it man!|are you seriously...| 2015-08-30|                   0.9047619|\n",
            "|         US|   50452994| R3PQJG19LMKIY|B013Q0451U|     101736294|Savvy Infusion Fl...|          Sports|          5|           19|         23|   N|                N|It's always hard ...|[[VIDEOID:2535b6d...| 2015-08-30|                  0.82608694|\n",
            "|         US|   15853142|R1IVZRG2D8EV42|B00K37891W|     712435138|Teeter EP-970 Ltd...|          Sports|          4|           23|         23|   N|                Y|     Very impressed!|This product is w...| 2015-08-30|                         1.0|\n",
            "|         US|   34441872| RFVZ0JX28S36O|B00MS36EW0|     703958931|ProForm 25-lb. Ad...|          Sports|          3|           21|         24|   N|                Y|2 - 12.5lbs weights.|Looks pretty good...| 2015-08-30|                       0.875|\n",
            "|         US|   29002143|R11DNXMV1WIVPI|B00JRMZK3E|     672817051|Superbicycle Spor...|          Sports|          4|          108|        108|   N|                Y|Stylish? I suppos...|Received the item...| 2015-08-30|                         1.0|\n",
            "|         US|   14304787|R2T8ORXQ0I97QT|B00UT9RV3G|     655410490|Glock Perfection ...|          Sports|          5|           21|         21|   N|                Y|  Perfect range bag.|Well made bag. He...| 2015-08-30|                         1.0|\n",
            "|         US|   16951294|R3FZ39FVWGUSG8|B00MXNYBFW|     436029968|IC ICLOVER 47\" Ex...|          Sports|          5|           24|         27|   N|                Y|Cheap price but a...|Received the IC I...| 2015-08-30|                   0.8888889|\n",
            "|         US|   22231767|R2YB7WAQJETXQN|B00R3NNWXY|     524722037|Buck Knives 0104W...|          Sports|          5|           46|         50|   N|                Y|Does what it's ma...|Bought this after...| 2015-08-30|                        0.92|\n",
            "|         US|   17266118|R2SYXXZJNQNQOR|B00B0E1MB6|     337375436|Benchmade - Bushc...|          Sports|          5|           30|         31|   N|                Y|   Ideal Field Knife|This is a serious...| 2015-08-30|                   0.9677419|\n",
            "|         US|   18005084|R29E8PTYJAYE3M|B00F9QOOAC|     983466443|Mitchell 308PRO-C...|          Sports|          1|           24|         26|   N|                Y|RIP OFF REPORT:GR...|Reel broke after ...| 2015-08-30|                   0.9230769|\n",
            "|         US|   14869340|R3EEDBPOLJ00OD|B00NO1OQW0|     984914138|TALON Grips for B...|          Sports|          4|           21|         21|   N|                Y|Custom Cut the Ta...|I like these grip...| 2015-08-30|                         1.0|\n",
            "|         US|   18620384|R1DG6H3Q46TGWZ|B00DS9A4M4|     811729277|UNOW Women Pro Tr...|          Sports|          5|           88|         91|   N|                Y|Good swim suit fo...|This swim suit is...| 2015-08-30|                  0.96703297|\n",
            "|         US|   52938937|R3LN12A1H67F0C|B00LGXE5NS|     723958119|Jump Rope - Premi...|          Sports|          1|           22|         28|   N|                Y|Can I rate it a n...|Can I rate it a n...| 2015-08-30|                  0.78571427|\n",
            "|         US|   21496085| R80YRXAEUBC91|B0000BYRS1|     286702627|Flag-a-Tag Sonic ...|          Sports|          1|           22|         23|   N|                Y|   Sockets are bad!!|Used my new flags...| 2015-08-30|                  0.95652175|\n",
            "|         US|   27600554|R13CH5D8CVGJ7G|B00FPQRLCO|     729066093|Plano 2-Tray Tack...|          Sports|          4|           30|         33|   N|                Y|Nice storage box ...|I bought this for...| 2015-08-30|                  0.90909094|\n",
            "|         US|   17838428|R3EZCEY7LYSYD1|B00MV6I972|     397542230|Body SPA Light Bo...|          Sports|          5|           17|         20|   N|                Y|This works!!! But...|This works! !! Bu...| 2015-08-30|                        0.85|\n",
            "|         US|   17820308|R15WIHHDAGI6HP|B00C3MFDKK|     752052058|Flambeau Outdoors...|          Sports|          4|           47|         48|   N|                Y|For the money, I ...|This is a great c...| 2015-08-30|                   0.9791667|\n",
            "|         US|   10854517|R3M3KKEKESLKU5|B00WZ8RZ1M|      45161562|Dushishidan Women...|          Sports|          4|           46|         51|   N|                Y|Best pair of biki...|Best pair of biki...| 2015-08-30|                   0.9019608|\n",
            "|         US|    1786608|R2QW43A9PNTCIQ|B00PBFYB3G|     894189413|Men's Nike Max Ai...|          Sports|          4|           20|         23|   N|                N|I have these boug...|I have these boug...| 2015-08-30|                   0.8695652|\n",
            "|         US|   18552238|R30CJQRAVZIS48|B011O0KWKM|     147254506|Polar Loop 2 Acti...|          Sports|          2|           20|         23|   N|                Y|... the loop 2 a ...|I bought the loop...| 2015-08-30|                   0.8695652|\n",
            "|         US|   17101403|R2TDYND8NJ1LER|B012E1B4SE|     395692288|Premium Calf Comp...|          Sports|          5|           24|         24|   N|                N|       Great Product|Thanks for a grea...| 2015-08-30|                         1.0|\n",
            "|         US|   11924164| R6PAEFWWZJHIN|B006EPQ4SW|     507174088|Nike Men's 3 in 1...|          Sports|          4|           36|         38|   N|                Y|Exactly what I wa...|Standard military...| 2015-08-30|                  0.94736844|\n",
            "|         US|   21466990| R2Z5DX2H7OA3T|B00UJCXHTA|     516270192|AirZone 10-Feet S...|          Sports|          4|           19|         23|   N|                Y|A great buy. This...|A great buy. This...| 2015-08-30|                  0.82608694|\n",
            "|         US|   10262814| RJ8L3XRB4ZF5A|B00Z33HVLA|     676051846|Pepper Protection...|          Sports|          1|           24|         25|   N|                N|this is cheap pla...|this is cheap pla...| 2015-08-30|                        0.96|\n",
            "|         US|   29850868|R28NHN1BJUDUKG|B0068FVOMO|     265765594|ProForm Pro 2000 ...|          Sports|          1|           47|         50|   N|                Y|Incompetent  Cust...|I purchased this ...| 2015-08-30|                        0.94|\n",
            "|         US|   45677153|R1FM3966ADVPA1|B00WS3CEHE|     384027702|Buckwheat Hull Fi...|          Sports|          5|           20|         22|   N|                N|Comfortable, well...|I started meditat...| 2015-08-29|                  0.90909094|\n",
            "|         US|     217570|R3CUG9R6MSOLSN|B00J1YA4VG|     999312005|Bushnell LYNX Gen...|          Sports|          5|           21|         21|   N|                Y|Really good night...|Really good night...| 2015-08-29|                         1.0|\n",
            "|         US|   22539529|R17VNNZQUKJYFE|B00NLS0NOG|     516938458|Rep Kettlebells f...|          Sports|          5|           23|         24|   N|                Y|Support veteran o...|Proud to support ...| 2015-08-29|                   0.9583333|\n",
            "|         US|   10499651|R2G88R9QHQYFKL|B0118PHJ6I|     334493600|Becko Lightweight...|          Sports|          5|           22|         24|   N|                N|Food and phones b...|My brother-in-law...| 2015-08-29|                   0.9166667|\n",
            "|         US|   14594707|R13Y617AFVNRCJ|B000NUWGS6|      87269627|Polar Bear Cooler...|          Sports|          5|           23|         26|   N|                Y|Fantastic little ...|First off, this w...| 2015-08-29|                  0.88461536|\n",
            "|         US|   52504667|R128HIEJJZEIFV|B00IJ0XJOW|     362724658|CMP Dueling Tree ...|          Sports|          1|           36|         49|   N|                Y|    Not for rifles!!|This works great ...| 2015-08-29|                   0.7346939|\n",
            "|         US|   40526257|R14OE3BD4J0Z7M|B00STAS4WE|     449997770|OutdoorMaster Ful...|          Sports|          5|           22|         24|   N|                Y|          Five Stars|    Love my new mask| 2015-08-29|                   0.9166667|\n",
            "|         US|     501271|R26UVTQ8QA9IW9|B00TBESVCK|     150223015|TacStar Tactical ...|          Sports|          4|           41|         42|   N|                Y|It's a great addi...|It's a great addi...| 2015-08-29|                  0.97619045|\n",
            "|         US|   15449084|R2SX9R9UT9RWS8|B0000ATY5P|     881291643|Complete Folding ...|          Sports|          5|           55|         57|   N|                Y|  Worked perfectly..|This worked perfe...| 2015-08-29|                   0.9649123|\n",
            "|         US|   52216353|R1XB6SZLY93TJZ|B002CLQ1Q2|     777289227|Sport-Brella Port...|          Sports|          4|           89|        102|   N|                Y|I have a Love/Hat...|This is my 3rd Sp...| 2015-08-29|                    0.872549|\n",
            "|         US|   44992591|R1PBT4LBOAI5K2|B011K66YWU|     732732568|Actervate - Waist...|          Sports|          5|           16|         20|   N|                N|Comfortable and s...|I was given a fre...| 2015-08-29|                         0.8|\n",
            "|         US|    5748022|R2O5EU3324K6UA|B003JFKAJE|      29207420|Pelican 1170 Case...|          Sports|          5|           36|         37|   N|                Y|The best you can ...|I needed a solid ...| 2015-08-29|                    0.972973|\n",
            "|         US|   20773453|R1RNORCONKGGXK|B012E1B5P6|     395692288|Premium Calf Comp...|          Sports|          5|           35|         35|   N|                Y|    awesome product!|Thank you for car...| 2015-08-29|                         1.0|\n",
            "|         US|    9594762|R1B4OTRVOCHUTU|B00I6PAOLQ|     257866170|ATN X-Sight 5-18 ...|          Sports|          5|           39|         47|   N|                N|Quit reading and ...|Inwas a little wo...| 2015-08-29|                  0.82978725|\n",
            "|         US|   19375491|R301IQBG05T5Q2|B009SUADRI|     208101040|Scotty #455 Bait ...|          Sports|          5|           32|         33|   N|                Y|Solid Quality (se...|I was skeptical a...| 2015-08-29|                    0.969697|\n",
            "|         US|   28712180|R2HVIQSMK4TXVA|B00AMOD48Y|     811271945|TrailMax Original...|          Sports|          5|           34|         34|   N|                Y|  Buying another one|Great little bag....| 2015-08-29|                         1.0|\n",
            "|         US|    2234861|R2RTG2WM9CIRHE|B004G7D5GO|     848140443|Ab-Doer Twist Abd...|          Sports|          5|           22|         25|   N|                Y|Great targeted ab...|Great for toning ...| 2015-08-29|                        0.88|\n",
            "|         US|   18535531|R14XO6Q9LC0VA7|B00EOOWAYW|     237640833|Dri Sweat Edge Ed...|          Sports|          5|           58|         59|   N|                Y|natral hair neces...|Just finished hot...| 2015-08-29|                   0.9830508|\n",
            "|         US|    8452180|R26BMPJDM0CPQ7|B00ZOQJUGK|     610933522|NEW Premium Tacti...|          Sports|          1|           21|         26|   N|                Y|DO NOT BUY OR YOU...|This item is not ...| 2015-08-29|                   0.8076923|\n",
            "|         US|   51527325|R1FWLGSIPSZ2MQ|B0033P77ZA|     256678564|  Hurricane Cast Net|          Sports|          5|           20|         21|   N|                Y|          Great net!|Great net! Took i...| 2015-08-29|                  0.95238096|\n",
            "|         US|   46529208|R15ZP782U8O1B2|B00Z65XECK|     199716410|Henoda for Garmin...|          Sports|          4|           33|         36|   N|                N|Great replacement...|I received the Ga...| 2015-08-29|                   0.9166667|\n",
            "|         US|   49129672| RSHFJUFALF5N8|B00MNNI7ZW|     543968448|PickleballCentral...|          Sports|          1|           33|         34|   N|                Y|  Very disappointed.|These rackets are...| 2015-08-29|                   0.9705882|\n",
            "|         US|   43037058| R1I6AOR8UXPHD|B00PJ7C3Z4|     114698210|Disassembly Tool ...|          Sports|          3|           21|         22|   N|                Y|         Three Stars|The machine work ...| 2015-08-29|                  0.95454544|\n",
            "|         US|   13357189|R2UZ2V3DV9933Z|B00J2AM8VS|      33465442|Shock Doctor Gel ...|          Sports|          5|           21|         23|   N|                N|It does keep your...|I've boxed with t...| 2015-08-29|                   0.9130435|\n",
            "+-----------+-----------+--------------+----------+--------------+--------------------+----------------+-----------+-------------+-----------+----+-----------------+--------------------+--------------------+-----------+----------------------------+\n",
            "only showing top 80 rows\n",
            "\n"
          ]
        }
      ]
    },
    {
      "cell_type": "code",
      "source": [
        "Paid_df.count()"
      ],
      "metadata": {
        "colab": {
          "base_uri": "https://localhost:8080/"
        },
        "id": "LJkb9IYaEMgs",
        "outputId": "f8026c79-6e7a-4da9-aeca-93c0ab331bb1"
      },
      "execution_count": 18,
      "outputs": [
        {
          "output_type": "execute_result",
          "data": {
            "text/plain": [
              "61948"
            ]
          },
          "metadata": {},
          "execution_count": 18
        }
      ]
    },
    {
      "cell_type": "code",
      "source": [
        "Paid_df = Paid_df.filter(Paid_df[\"vine\"] == 'Y')\n",
        "Paid_df.show()"
      ],
      "metadata": {
        "colab": {
          "base_uri": "https://localhost:8080/"
        },
        "id": "oBaYSINhGsxr",
        "outputId": "45019c1c-6731-4b60-b5be-c3af71d077d9"
      },
      "execution_count": 23,
      "outputs": [
        {
          "output_type": "stream",
          "name": "stdout",
          "text": [
            "+-----------+-----------+--------------+----------+--------------+--------------------+----------------+-----------+-------------+-----------+----+-----------------+--------------------+--------------------+-----------+----------------------------+\n",
            "|marketplace|customer_id|     review_id|product_id|product_parent|       product_title|product_category|star_rating|helpful_votes|total_votes|vine|verified_purchase|     review_headline|         review_body|review_date|helpful_dividedby_totalvotes|\n",
            "+-----------+-----------+--------------+----------+--------------+--------------------+----------------+-----------+-------------+-----------+----+-----------------+--------------------+--------------------+-----------+----------------------------+\n",
            "|         US|   51238346|R32OMS1LSDRCOB|B0118XMTV0|     454318751|Slendertone Abs A...|          Sports|          4|           27|         31|   Y|                N|Fun and Potential...|I have heard some...| 2015-08-31|                  0.87096775|\n",
            "|         US|   31282801|R2IPKK4I0XRCFR|B00R3MZU80|     470964994|AmazonBasics Resi...|          Sports|          4|           16|         21|   Y|                N|Strong and versatile|I've never owned ...| 2015-08-28|                   0.7619048|\n",
            "|         US|   50738297| RXYYJ8SGI9IX6|B00T9N2M0K|      75297990|Bushnell Legend L...|          Sports|          5|           36|         41|   Y|                N|Best in League, A...|The Bushnell LEGE...| 2015-08-23|                   0.8780488|\n",
            "|         US|   52389452|R1SAUBFC7T6JHC|B0102UUH0U|     247322872|Gaiam Backless Ba...|          Sports|          5|           73|         75|   Y|                N| Pretty darned great|I own a number of...| 2015-08-22|                  0.97333336|\n",
            "|         US|   16449486|R329HVJKKHWSG3|B00UOYN7J8|     582990100|GolfBuddy WT5 Gol...|          Sports|          5|           59|         59|   Y|                N|            Golf GPS|I really like thi...| 2015-08-05|                         1.0|\n",
            "|         US|   51401810| RZL21K50M52KW|B00UOYN7J8|     582990100|GolfBuddy WT5 Gol...|          Sports|          5|           22|         22|   Y|                N|Only leaves your ...|At first I though...| 2015-08-02|                         1.0|\n",
            "|         US|   42766892|R24RC5J2D92SBE|B00QLVN8ME|     218231145|TaylorMade Men's ...|          Sports|          5|           19|         20|   Y|                N|              Wow...|Allow me to be fr...| 2015-08-01|                        0.95|\n",
            "|         US|   26955164|R1803HITBY7Y08|B00SX7JPMG|     335026890|Simmons 801600 Vo...|          Sports|          4|           92|        104|   Y|                N|Entry level price...|For those on a bu...| 2015-08-01|                  0.88461536|\n",
            "|         US|   52860329|R1888B8Z6QWYZ4|B00SX7JPMG|     335026890|Simmons 801600 Vo...|          Sports|          4|           18|         25|   Y|                N|Cheap. Accurate. ...|Depress single bu...| 2015-07-28|                        0.72|\n",
            "|         US|   31129802|R1S538NK2I5PRL|B00UOYN7J8|     582990100|GolfBuddy WT5 Gol...|          Sports|          5|           21|         22|   Y|                N|Great Golf Accessory|I like using the ...| 2015-07-24|                  0.95454544|\n",
            "|         US|   45351550| RZDTBIS1289HJ|B00TP85YUE|     312217522|Primos 12MP Proof...|          Sports|          5|           26|         28|   Y|                N|Back to basics wi...|So depending on w...| 2015-07-24|                   0.9285714|\n",
            "|         US|   26955164|R1MWLO2PFODMQ3|B00QLVEF9E|     432026198|TaylorMade Men's ...|          Sports|          5|           31|         32|   Y|                N|Your time has com...|What comes with t...| 2015-07-12|                     0.96875|\n",
            "|         US|   35733349|R3O6EMC0ISQY92|B00WQIV96S|     326034256|Gaiam Kids Stay-N...|          Sports|          4|           25|         27|   Y|                N|Fun ball but for ...|I got this for ou...| 2015-07-10|                   0.9259259|\n",
            "|         US|   36470546|R1OGJY9TSNXXX3|B00XRDONXC|      39871630|SKLZ Pro Mini XL ...|          Sports|          5|           19|         22|   Y|                N|Several Advantage...|Wow, this is sooo...| 2015-06-24|                   0.8636364|\n",
            "|         US|   48428870| R3AOPWQNKJ6VE|B00XRDONXC|      39871630|SKLZ Pro Mini XL ...|          Sports|          5|           25|         29|   Y|                N|Great office, dor...|This Sklz mini ho...| 2015-06-20|                  0.86206895|\n",
            "|         US|   30095805|R1XJFRM9ANTVSZ|B00VUMGYLQ|     628585657|SKLZ Quickster So...|          Sports|          4|           44|         46|   Y|                N|For the money, a ...|This is a decent ...| 2015-06-17|                  0.95652175|\n",
            "|         US|   52754239|R1VDF41NJMDGBT|B00T5VQBU8|     185741040|CaddyDaddy Golf P...|          Sports|          2|           23|         29|   Y|                N|So large it's pra...|I'm not going to ...| 2015-06-14|                  0.79310346|\n",
            "|         US|   32028733|R2C0QDBA4NEEKD|B00VS36SN6|     689268241|Jillian Michaels ...|          Sports|          3|          173|        200|   Y|                N|Solid Workouts; P...|First, let me sta...| 2015-05-28|                       0.865|\n",
            "|         US|   51635935|R3TUMV5DZL433H|B00VS36SN6|     689268241|Jillian Michaels ...|          Sports|          4|           29|         38|   Y|                N|Not for the (fatt...|This is intimidat...| 2015-05-28|                   0.7631579|\n",
            "|         US|   51624877| RVU1EA54INF9T|B00RW8HVYG|     121951908|adidas Performanc...|          Sports|          5|           19|         21|   Y|                N|5 stars for a sol...|ADIDAS, &#34;All ...| 2015-05-25|                   0.9047619|\n",
            "+-----------+-----------+--------------+----------+--------------+--------------------+----------------+-----------+-------------+-----------+----+-----------------+--------------------+--------------------+-----------+----------------------------+\n",
            "only showing top 20 rows\n",
            "\n"
          ]
        }
      ]
    },
    {
      "cell_type": "code",
      "source": [
        "#Total Number of Paid Reviews\n",
        "Paid_df.count()"
      ],
      "metadata": {
        "colab": {
          "base_uri": "https://localhost:8080/"
        },
        "id": "asS7La88HJMy",
        "outputId": "fcfa9f4f-8937-4f3c-99b1-7c09a5a4ac4e"
      },
      "execution_count": 24,
      "outputs": [
        {
          "output_type": "execute_result",
          "data": {
            "text/plain": [
              "334"
            ]
          },
          "metadata": {},
          "execution_count": 24
        }
      ]
    },
    {
      "cell_type": "code",
      "source": [
        "P_Fivestar_df = Paid_df\n",
        "P_Fivestar_df.show()"
      ],
      "metadata": {
        "colab": {
          "base_uri": "https://localhost:8080/"
        },
        "id": "9-rF8kPOLkBe",
        "outputId": "c7c3a563-d75b-4c47-f306-e7f5b16117cf"
      },
      "execution_count": 35,
      "outputs": [
        {
          "output_type": "stream",
          "name": "stdout",
          "text": [
            "+-----------+-----------+--------------+----------+--------------+--------------------+----------------+-----------+-------------+-----------+----+-----------------+--------------------+--------------------+-----------+----------------------------+\n",
            "|marketplace|customer_id|     review_id|product_id|product_parent|       product_title|product_category|star_rating|helpful_votes|total_votes|vine|verified_purchase|     review_headline|         review_body|review_date|helpful_dividedby_totalvotes|\n",
            "+-----------+-----------+--------------+----------+--------------+--------------------+----------------+-----------+-------------+-----------+----+-----------------+--------------------+--------------------+-----------+----------------------------+\n",
            "|         US|   51238346|R32OMS1LSDRCOB|B0118XMTV0|     454318751|Slendertone Abs A...|          Sports|          4|           27|         31|   Y|                N|Fun and Potential...|I have heard some...| 2015-08-31|                  0.87096775|\n",
            "|         US|   31282801|R2IPKK4I0XRCFR|B00R3MZU80|     470964994|AmazonBasics Resi...|          Sports|          4|           16|         21|   Y|                N|Strong and versatile|I've never owned ...| 2015-08-28|                   0.7619048|\n",
            "|         US|   50738297| RXYYJ8SGI9IX6|B00T9N2M0K|      75297990|Bushnell Legend L...|          Sports|          5|           36|         41|   Y|                N|Best in League, A...|The Bushnell LEGE...| 2015-08-23|                   0.8780488|\n",
            "|         US|   52389452|R1SAUBFC7T6JHC|B0102UUH0U|     247322872|Gaiam Backless Ba...|          Sports|          5|           73|         75|   Y|                N| Pretty darned great|I own a number of...| 2015-08-22|                  0.97333336|\n",
            "|         US|   16449486|R329HVJKKHWSG3|B00UOYN7J8|     582990100|GolfBuddy WT5 Gol...|          Sports|          5|           59|         59|   Y|                N|            Golf GPS|I really like thi...| 2015-08-05|                         1.0|\n",
            "|         US|   51401810| RZL21K50M52KW|B00UOYN7J8|     582990100|GolfBuddy WT5 Gol...|          Sports|          5|           22|         22|   Y|                N|Only leaves your ...|At first I though...| 2015-08-02|                         1.0|\n",
            "|         US|   42766892|R24RC5J2D92SBE|B00QLVN8ME|     218231145|TaylorMade Men's ...|          Sports|          5|           19|         20|   Y|                N|              Wow...|Allow me to be fr...| 2015-08-01|                        0.95|\n",
            "|         US|   26955164|R1803HITBY7Y08|B00SX7JPMG|     335026890|Simmons 801600 Vo...|          Sports|          4|           92|        104|   Y|                N|Entry level price...|For those on a bu...| 2015-08-01|                  0.88461536|\n",
            "|         US|   52860329|R1888B8Z6QWYZ4|B00SX7JPMG|     335026890|Simmons 801600 Vo...|          Sports|          4|           18|         25|   Y|                N|Cheap. Accurate. ...|Depress single bu...| 2015-07-28|                        0.72|\n",
            "|         US|   31129802|R1S538NK2I5PRL|B00UOYN7J8|     582990100|GolfBuddy WT5 Gol...|          Sports|          5|           21|         22|   Y|                N|Great Golf Accessory|I like using the ...| 2015-07-24|                  0.95454544|\n",
            "|         US|   45351550| RZDTBIS1289HJ|B00TP85YUE|     312217522|Primos 12MP Proof...|          Sports|          5|           26|         28|   Y|                N|Back to basics wi...|So depending on w...| 2015-07-24|                   0.9285714|\n",
            "|         US|   26955164|R1MWLO2PFODMQ3|B00QLVEF9E|     432026198|TaylorMade Men's ...|          Sports|          5|           31|         32|   Y|                N|Your time has com...|What comes with t...| 2015-07-12|                     0.96875|\n",
            "|         US|   35733349|R3O6EMC0ISQY92|B00WQIV96S|     326034256|Gaiam Kids Stay-N...|          Sports|          4|           25|         27|   Y|                N|Fun ball but for ...|I got this for ou...| 2015-07-10|                   0.9259259|\n",
            "|         US|   36470546|R1OGJY9TSNXXX3|B00XRDONXC|      39871630|SKLZ Pro Mini XL ...|          Sports|          5|           19|         22|   Y|                N|Several Advantage...|Wow, this is sooo...| 2015-06-24|                   0.8636364|\n",
            "|         US|   48428870| R3AOPWQNKJ6VE|B00XRDONXC|      39871630|SKLZ Pro Mini XL ...|          Sports|          5|           25|         29|   Y|                N|Great office, dor...|This Sklz mini ho...| 2015-06-20|                  0.86206895|\n",
            "|         US|   30095805|R1XJFRM9ANTVSZ|B00VUMGYLQ|     628585657|SKLZ Quickster So...|          Sports|          4|           44|         46|   Y|                N|For the money, a ...|This is a decent ...| 2015-06-17|                  0.95652175|\n",
            "|         US|   52754239|R1VDF41NJMDGBT|B00T5VQBU8|     185741040|CaddyDaddy Golf P...|          Sports|          2|           23|         29|   Y|                N|So large it's pra...|I'm not going to ...| 2015-06-14|                  0.79310346|\n",
            "|         US|   32028733|R2C0QDBA4NEEKD|B00VS36SN6|     689268241|Jillian Michaels ...|          Sports|          3|          173|        200|   Y|                N|Solid Workouts; P...|First, let me sta...| 2015-05-28|                       0.865|\n",
            "|         US|   51635935|R3TUMV5DZL433H|B00VS36SN6|     689268241|Jillian Michaels ...|          Sports|          4|           29|         38|   Y|                N|Not for the (fatt...|This is intimidat...| 2015-05-28|                   0.7631579|\n",
            "|         US|   51624877| RVU1EA54INF9T|B00RW8HVYG|     121951908|adidas Performanc...|          Sports|          5|           19|         21|   Y|                N|5 stars for a sol...|ADIDAS, &#34;All ...| 2015-05-25|                   0.9047619|\n",
            "+-----------+-----------+--------------+----------+--------------+--------------------+----------------+-----------+-------------+-----------+----+-----------------+--------------------+--------------------+-----------+----------------------------+\n",
            "only showing top 20 rows\n",
            "\n"
          ]
        }
      ]
    },
    {
      "cell_type": "code",
      "source": [
        "P_Fivestar_df = P_Fivestar_df.filter(P_Fivestar_df[\"star_rating\"] == 5)\n",
        "P_Fivestar_df.show()"
      ],
      "metadata": {
        "colab": {
          "base_uri": "https://localhost:8080/"
        },
        "id": "46OFl5ftLxkR",
        "outputId": "1efb934c-1766-43f3-a68a-b4b87a739428"
      },
      "execution_count": 36,
      "outputs": [
        {
          "output_type": "stream",
          "name": "stdout",
          "text": [
            "+-----------+-----------+--------------+----------+--------------+--------------------+----------------+-----------+-------------+-----------+----+-----------------+--------------------+--------------------+-----------+----------------------------+\n",
            "|marketplace|customer_id|     review_id|product_id|product_parent|       product_title|product_category|star_rating|helpful_votes|total_votes|vine|verified_purchase|     review_headline|         review_body|review_date|helpful_dividedby_totalvotes|\n",
            "+-----------+-----------+--------------+----------+--------------+--------------------+----------------+-----------+-------------+-----------+----+-----------------+--------------------+--------------------+-----------+----------------------------+\n",
            "|         US|   50738297| RXYYJ8SGI9IX6|B00T9N2M0K|      75297990|Bushnell Legend L...|          Sports|          5|           36|         41|   Y|                N|Best in League, A...|The Bushnell LEGE...| 2015-08-23|                   0.8780488|\n",
            "|         US|   52389452|R1SAUBFC7T6JHC|B0102UUH0U|     247322872|Gaiam Backless Ba...|          Sports|          5|           73|         75|   Y|                N| Pretty darned great|I own a number of...| 2015-08-22|                  0.97333336|\n",
            "|         US|   16449486|R329HVJKKHWSG3|B00UOYN7J8|     582990100|GolfBuddy WT5 Gol...|          Sports|          5|           59|         59|   Y|                N|            Golf GPS|I really like thi...| 2015-08-05|                         1.0|\n",
            "|         US|   51401810| RZL21K50M52KW|B00UOYN7J8|     582990100|GolfBuddy WT5 Gol...|          Sports|          5|           22|         22|   Y|                N|Only leaves your ...|At first I though...| 2015-08-02|                         1.0|\n",
            "|         US|   42766892|R24RC5J2D92SBE|B00QLVN8ME|     218231145|TaylorMade Men's ...|          Sports|          5|           19|         20|   Y|                N|              Wow...|Allow me to be fr...| 2015-08-01|                        0.95|\n",
            "|         US|   31129802|R1S538NK2I5PRL|B00UOYN7J8|     582990100|GolfBuddy WT5 Gol...|          Sports|          5|           21|         22|   Y|                N|Great Golf Accessory|I like using the ...| 2015-07-24|                  0.95454544|\n",
            "|         US|   45351550| RZDTBIS1289HJ|B00TP85YUE|     312217522|Primos 12MP Proof...|          Sports|          5|           26|         28|   Y|                N|Back to basics wi...|So depending on w...| 2015-07-24|                   0.9285714|\n",
            "|         US|   26955164|R1MWLO2PFODMQ3|B00QLVEF9E|     432026198|TaylorMade Men's ...|          Sports|          5|           31|         32|   Y|                N|Your time has com...|What comes with t...| 2015-07-12|                     0.96875|\n",
            "|         US|   36470546|R1OGJY9TSNXXX3|B00XRDONXC|      39871630|SKLZ Pro Mini XL ...|          Sports|          5|           19|         22|   Y|                N|Several Advantage...|Wow, this is sooo...| 2015-06-24|                   0.8636364|\n",
            "|         US|   48428870| R3AOPWQNKJ6VE|B00XRDONXC|      39871630|SKLZ Pro Mini XL ...|          Sports|          5|           25|         29|   Y|                N|Great office, dor...|This Sklz mini ho...| 2015-06-20|                  0.86206895|\n",
            "|         US|   51624877| RVU1EA54INF9T|B00RW8HVYG|     121951908|adidas Performanc...|          Sports|          5|           19|         21|   Y|                N|5 stars for a sol...|ADIDAS, &#34;All ...| 2015-05-25|                   0.9047619|\n",
            "|         US|   21159753|R1H8QU9G9HLBWK|B00LTZ9C0Y|     240023737|adidas Defender I...|          Sports|          5|           43|         49|   Y|                Y|Adidas Defender I...|The handy multi-p...| 2015-05-21|                    0.877551|\n",
            "|         US|   16990140|R1W3IJGNN1QM7X|B00R3VV9NG|     113972590|Callaway Men's St...|          Sports|          5|           30|         32|   Y|                N| Perfect Standby Set|When it comes to ...| 2015-05-14|                      0.9375|\n",
            "|         US|   52862683|R1PWHBB4EIU166|B00Q67IO2M|     148982871|adidas Performanc...|          Sports|          5|           26|         27|   Y|                N|Extremely light a...|[[VIDEOID:9de4bc5...| 2015-05-01|                    0.962963|\n",
            "|         US|   49442099|R3IJWNLDMHOSW8|B00R3VV9NG|     113972590|Callaway Men's St...|          Sports|          5|           31|         33|   Y|                N|A nice set for th...|This is a great s...| 2015-04-19|                  0.93939394|\n",
            "|         US|   49620639|R3KUTVHPAUK5UE|B00IEMPDI0|     914469388|Zumba Fitness Inc...|          Sports|          5|           18|         23|   Y|                N|      Love to Zumba!|One of the best t...| 2015-04-16|                   0.7826087|\n",
            "|         US|   52908733|R3T7N6L04G4FV5|B00N2PBUZ4|     269435291|Gaiam Athletic Yo...|          Sports|          5|           41|         44|   Y|                N|Not as heavy as y...|I am comparing th...| 2015-03-17|                   0.9318182|\n",
            "|         US|   52822254|R3IUI9Y9GTEUSX|B00KVZMC7I|     808365145|Schwinn 830 Tread...|          Sports|          5|           55|         59|   Y|                N|Great Home Treadmill|Hoo, boy, it’s he...| 2015-02-02|                   0.9322034|\n",
            "|         US|   52860742|R37FPA08HBOGFZ|B00KVZM70K|     392936845|Nautilus T616 Tre...|          Sports|          5|           44|         49|   Y|                N|Nautilus' T616 Tr...|I run about 15 mi...| 2015-01-20|                   0.8979592|\n",
            "|         US|   16346613|R1RBUSSKE143KP|B00KVZM6TW|     479288643|Nautilus T614 Tre...|          Sports|          5|           50|         53|   Y|                N|    Great treadmill!|First, a small wa...| 2015-01-15|                   0.9433962|\n",
            "+-----------+-----------+--------------+----------+--------------+--------------------+----------------+-----------+-------------+-----------+----+-----------------+--------------------+--------------------+-----------+----------------------------+\n",
            "only showing top 20 rows\n",
            "\n"
          ]
        }
      ]
    },
    {
      "cell_type": "code",
      "source": [
        "#Number of 5-Star reviews from Vine Program (Paid)\n",
        "P_Fivestar_df.count()"
      ],
      "metadata": {
        "colab": {
          "base_uri": "https://localhost:8080/"
        },
        "id": "1xfd1bk2MMTa",
        "outputId": "c7bbb222-023c-42aa-af56-0c18ca6ffa61"
      },
      "execution_count": 37,
      "outputs": [
        {
          "output_type": "execute_result",
          "data": {
            "text/plain": [
              "139"
            ]
          },
          "metadata": {},
          "execution_count": 37
        }
      ]
    },
    {
      "cell_type": "code",
      "source": [
        "#Percentage of 5-star reviews for Vine Program (Paid)\n",
        "P_Fivestar_df.count()/Paid_df.count()"
      ],
      "metadata": {
        "colab": {
          "base_uri": "https://localhost:8080/"
        },
        "id": "IQmpzoCPMd1P",
        "outputId": "fbe60eda-694b-4c61-f03a-a0eb5094e4ec"
      },
      "execution_count": 38,
      "outputs": [
        {
          "output_type": "execute_result",
          "data": {
            "text/plain": [
              "0.4161676646706587"
            ]
          },
          "metadata": {},
          "execution_count": 38
        }
      ]
    },
    {
      "cell_type": "markdown",
      "source": [
        "**Unpaid - Reviews not part of the Vine Program**"
      ],
      "metadata": {
        "id": "IDTlNttULcma"
      }
    },
    {
      "cell_type": "code",
      "source": [
        "#Unpaid_df - all rows where review was not part of Vine program\n",
        "Unpaid_df = Twentyormoretotalvotes_df2\n",
        "Unpaid_df.show()"
      ],
      "metadata": {
        "colab": {
          "base_uri": "https://localhost:8080/"
        },
        "id": "70ZJbwhcHhKv",
        "outputId": "5e9fc3c5-1138-4270-898e-5c54bfaeaada"
      },
      "execution_count": 26,
      "outputs": [
        {
          "output_type": "stream",
          "name": "stdout",
          "text": [
            "+-----------+-----------+--------------+----------+--------------+--------------------+----------------+-----------+-------------+-----------+----+-----------------+--------------------+--------------------+-----------+----------------------------+\n",
            "|marketplace|customer_id|     review_id|product_id|product_parent|       product_title|product_category|star_rating|helpful_votes|total_votes|vine|verified_purchase|     review_headline|         review_body|review_date|helpful_dividedby_totalvotes|\n",
            "+-----------+-----------+--------------+----------+--------------+--------------------+----------------+-----------+-------------+-----------+----+-----------------+--------------------+--------------------+-----------+----------------------------+\n",
            "|         US|   37480006|R1B4753QMTD8ON|B00U6AE4BK|     632231911|Maxpedition Chubb...|          Sports|          5|           32|         32|   N|                N|Maxpedition Organ...|As a preamble, ha...| 2015-08-31|                         1.0|\n",
            "|         US|   49868087|R28BVHOEL6GCHZ|B011CCGRX8|     403987913|5 Resistance Loop...|          Sports|          5|           21|         21|   N|                Y|Excellent for Phy...|I purchased these...| 2015-08-31|                         1.0|\n",
            "|         US|    8458598|R27IB4BRKO71I0|B0062Y9BLM|     875168903|Sentry Solutions ...|          Sports|          2|           16|         20|   N|                Y|        Just dont...|So i bought this ...| 2015-08-31|                         0.8|\n",
            "|         US|   23595483| RJ86OW12Y4NRL|B00HMDLAPC|     677548322|NIKE Mercurial Li...|          Sports|          5|          124|        128|   N|                Y|My Shins Exclaim:...|I highly recommen...| 2015-08-31|                     0.96875|\n",
            "|         US|   42803974|R3KRABOWCH6ZE4|B003DQTJMI|     330329071|Mountain Man Beav...|          Sports|          1|           48|         65|   N|                Y|                WTF!|Dont get me wrong...| 2015-08-31|                  0.73846155|\n",
            "|         US|    4247498|R1OAKARA30DIWX|B00467H5YW|     440976014|Sunny Health & Fi...|          Sports|          4|           83|         89|   N|                Y|Good quality bike...|I have been spinn...| 2015-08-31|                   0.9325843|\n",
            "|         US|   25890930|R36LSV4WQ4VB1K|B010OMQSR2|     193862771|Rhino Tactical Gr...|          Sports|          5|           17|         22|   N|                N|Quality scope by ...|Though I do not o...| 2015-08-31|                  0.77272725|\n",
            "|         US|   15598507|R18BTOE5UGN7UA|B00VNYCZ78|     387735619|4007527 Desantis ...|          Sports|          5|           26|         28|   N|                Y|Weapon fits perfe...|Weapon fits perfe...| 2015-08-31|                   0.9285714|\n",
            "|         US|   37283673|R1DXLGDSK2WMLD|B00460IFPW|     200966622|Benjamin High Pre...|          Sports|          4|           22|         22|   N|                N|Don't Blame the P...|I have read many ...| 2015-08-31|                         1.0|\n",
            "|         US|     106776| RZG2OHQ12YYZI|B00DGE4BAW|      70810199|Nike Womens Pro C...|          Sports|          5|           30|         31|   N|                Y|      Very satisfied|I was sort worrie...| 2015-08-31|                   0.9677419|\n",
            "|         US|   48363662|R1ZPBQCT4DYE4Z|B00AU6EEVU|      13742267|Gamo 611009754 .1...|          Sports|          1|           45|         51|   N|                Y|Horrible Customer...|Horrible customer...| 2015-08-31|                  0.88235295|\n",
            "|         US|   15757589|R16KLPJUNC9GS7|B002ZUR0EW|     930729095|ASICS Ace Low Pro...|          Sports|          5|           20|         21|   N|                Y|My 13-year-old da...|My 13-year-old da...| 2015-08-31|                  0.95238096|\n",
            "|         US|   38169469|R3Q0414UJO4BDO|B000EZYT3K|     620569131|Century Original ...|          Sports|          1|           23|         28|   N|                Y|I have to reposit...|I've had this wav...| 2015-08-31|                   0.8214286|\n",
            "|         US|      94649| RDHDT1Z4R8IOF|B00HPQ22XK|     845220278|Vipertek VTS-195 ...|          Sports|          1|           18|         20|   N|                Y|Short-circuited o...|Short-circuited o...| 2015-08-31|                         0.9|\n",
            "|         US|   33069537|R10BO7KWZNBGL1|B00IK2U3C0|     339142563|Zumba Fitness Max...|          Sports|          4|           23|         24|   N|                Y|Very Fun -- Be Su...|You can see a qui...| 2015-08-31|                   0.9583333|\n",
            "|         US|   46178267|R1H6DQ1UXL6K8U|B00S0YA5GM|     341888516|Balaclava - Windp...|          Sports|          5|           86|         97|   N|                N|Longer Skull Cap,...|[[VIDEOID:65429b3...| 2015-08-31|                  0.88659793|\n",
            "|         US|   51238346|R32OMS1LSDRCOB|B0118XMTV0|     454318751|Slendertone Abs A...|          Sports|          4|           27|         31|   Y|                N|Fun and Potential...|I have heard some...| 2015-08-31|                  0.87096775|\n",
            "|         US|   27447817|R1ABJ5P5XAZ9AW|B00RGAPEMQ|     421395304|Diamond Archery I...|          Sports|          5|          174|        187|   N|                N|Easy to maintain ...|This is not a spe...| 2015-08-31|                  0.93048126|\n",
            "|         US|     107674|R2RRFZ2YFSJ2OF|B012E92P16|     955885072|Storm Warrior Dou...|          Sports|          5|           27|         27|   N|                Y|awesome money wel...|It works great wi...| 2015-08-31|                         1.0|\n",
            "|         US|   19397215| RJ0T139KDORXP|B00HAMJA20|     723592737|Paracord Planet 1...|          Sports|          5|           23|         24|   N|                Y|Great product for...|This was exactly ...| 2015-08-31|                   0.9583333|\n",
            "+-----------+-----------+--------------+----------+--------------+--------------------+----------------+-----------+-------------+-----------+----+-----------------+--------------------+--------------------+-----------+----------------------------+\n",
            "only showing top 20 rows\n",
            "\n"
          ]
        }
      ]
    },
    {
      "cell_type": "code",
      "source": [
        "Unpaid_df.count()"
      ],
      "metadata": {
        "colab": {
          "base_uri": "https://localhost:8080/"
        },
        "id": "3TzUwhC_Hu0p",
        "outputId": "ca5a2abd-bb4d-4626-b3e3-a60dd7be18c5"
      },
      "execution_count": 27,
      "outputs": [
        {
          "output_type": "execute_result",
          "data": {
            "text/plain": [
              "61948"
            ]
          },
          "metadata": {},
          "execution_count": 27
        }
      ]
    },
    {
      "cell_type": "code",
      "source": [
        "Unpaid_df = Unpaid_df.filter(Unpaid_df[\"vine\"] == 'N')\n",
        "Unpaid_df.show()"
      ],
      "metadata": {
        "colab": {
          "base_uri": "https://localhost:8080/"
        },
        "id": "vjRJd8T_H8ew",
        "outputId": "9a19a579-ad61-420e-ec49-dae935c145e2"
      },
      "execution_count": 28,
      "outputs": [
        {
          "output_type": "stream",
          "name": "stdout",
          "text": [
            "+-----------+-----------+--------------+----------+--------------+--------------------+----------------+-----------+-------------+-----------+----+-----------------+--------------------+--------------------+-----------+----------------------------+\n",
            "|marketplace|customer_id|     review_id|product_id|product_parent|       product_title|product_category|star_rating|helpful_votes|total_votes|vine|verified_purchase|     review_headline|         review_body|review_date|helpful_dividedby_totalvotes|\n",
            "+-----------+-----------+--------------+----------+--------------+--------------------+----------------+-----------+-------------+-----------+----+-----------------+--------------------+--------------------+-----------+----------------------------+\n",
            "|         US|   37480006|R1B4753QMTD8ON|B00U6AE4BK|     632231911|Maxpedition Chubb...|          Sports|          5|           32|         32|   N|                N|Maxpedition Organ...|As a preamble, ha...| 2015-08-31|                         1.0|\n",
            "|         US|   49868087|R28BVHOEL6GCHZ|B011CCGRX8|     403987913|5 Resistance Loop...|          Sports|          5|           21|         21|   N|                Y|Excellent for Phy...|I purchased these...| 2015-08-31|                         1.0|\n",
            "|         US|    8458598|R27IB4BRKO71I0|B0062Y9BLM|     875168903|Sentry Solutions ...|          Sports|          2|           16|         20|   N|                Y|        Just dont...|So i bought this ...| 2015-08-31|                         0.8|\n",
            "|         US|   23595483| RJ86OW12Y4NRL|B00HMDLAPC|     677548322|NIKE Mercurial Li...|          Sports|          5|          124|        128|   N|                Y|My Shins Exclaim:...|I highly recommen...| 2015-08-31|                     0.96875|\n",
            "|         US|   42803974|R3KRABOWCH6ZE4|B003DQTJMI|     330329071|Mountain Man Beav...|          Sports|          1|           48|         65|   N|                Y|                WTF!|Dont get me wrong...| 2015-08-31|                  0.73846155|\n",
            "|         US|    4247498|R1OAKARA30DIWX|B00467H5YW|     440976014|Sunny Health & Fi...|          Sports|          4|           83|         89|   N|                Y|Good quality bike...|I have been spinn...| 2015-08-31|                   0.9325843|\n",
            "|         US|   25890930|R36LSV4WQ4VB1K|B010OMQSR2|     193862771|Rhino Tactical Gr...|          Sports|          5|           17|         22|   N|                N|Quality scope by ...|Though I do not o...| 2015-08-31|                  0.77272725|\n",
            "|         US|   15598507|R18BTOE5UGN7UA|B00VNYCZ78|     387735619|4007527 Desantis ...|          Sports|          5|           26|         28|   N|                Y|Weapon fits perfe...|Weapon fits perfe...| 2015-08-31|                   0.9285714|\n",
            "|         US|   37283673|R1DXLGDSK2WMLD|B00460IFPW|     200966622|Benjamin High Pre...|          Sports|          4|           22|         22|   N|                N|Don't Blame the P...|I have read many ...| 2015-08-31|                         1.0|\n",
            "|         US|     106776| RZG2OHQ12YYZI|B00DGE4BAW|      70810199|Nike Womens Pro C...|          Sports|          5|           30|         31|   N|                Y|      Very satisfied|I was sort worrie...| 2015-08-31|                   0.9677419|\n",
            "|         US|   48363662|R1ZPBQCT4DYE4Z|B00AU6EEVU|      13742267|Gamo 611009754 .1...|          Sports|          1|           45|         51|   N|                Y|Horrible Customer...|Horrible customer...| 2015-08-31|                  0.88235295|\n",
            "|         US|   15757589|R16KLPJUNC9GS7|B002ZUR0EW|     930729095|ASICS Ace Low Pro...|          Sports|          5|           20|         21|   N|                Y|My 13-year-old da...|My 13-year-old da...| 2015-08-31|                  0.95238096|\n",
            "|         US|   38169469|R3Q0414UJO4BDO|B000EZYT3K|     620569131|Century Original ...|          Sports|          1|           23|         28|   N|                Y|I have to reposit...|I've had this wav...| 2015-08-31|                   0.8214286|\n",
            "|         US|      94649| RDHDT1Z4R8IOF|B00HPQ22XK|     845220278|Vipertek VTS-195 ...|          Sports|          1|           18|         20|   N|                Y|Short-circuited o...|Short-circuited o...| 2015-08-31|                         0.9|\n",
            "|         US|   33069537|R10BO7KWZNBGL1|B00IK2U3C0|     339142563|Zumba Fitness Max...|          Sports|          4|           23|         24|   N|                Y|Very Fun -- Be Su...|You can see a qui...| 2015-08-31|                   0.9583333|\n",
            "|         US|   46178267|R1H6DQ1UXL6K8U|B00S0YA5GM|     341888516|Balaclava - Windp...|          Sports|          5|           86|         97|   N|                N|Longer Skull Cap,...|[[VIDEOID:65429b3...| 2015-08-31|                  0.88659793|\n",
            "|         US|   27447817|R1ABJ5P5XAZ9AW|B00RGAPEMQ|     421395304|Diamond Archery I...|          Sports|          5|          174|        187|   N|                N|Easy to maintain ...|This is not a spe...| 2015-08-31|                  0.93048126|\n",
            "|         US|     107674|R2RRFZ2YFSJ2OF|B012E92P16|     955885072|Storm Warrior Dou...|          Sports|          5|           27|         27|   N|                Y|awesome money wel...|It works great wi...| 2015-08-31|                         1.0|\n",
            "|         US|   19397215| RJ0T139KDORXP|B00HAMJA20|     723592737|Paracord Planet 1...|          Sports|          5|           23|         24|   N|                Y|Great product for...|This was exactly ...| 2015-08-31|                   0.9583333|\n",
            "|         US|   12646947|R30MVK7HP2DW91|B00Z8KBEBQ|     205836280|Earth Pak -Waterp...|          Sports|          5|           84|        124|   N|                Y|best quality dry ...|VERY heavy duty m...| 2015-08-31|                  0.67741936|\n",
            "+-----------+-----------+--------------+----------+--------------+--------------------+----------------+-----------+-------------+-----------+----+-----------------+--------------------+--------------------+-----------+----------------------------+\n",
            "only showing top 20 rows\n",
            "\n"
          ]
        }
      ]
    },
    {
      "cell_type": "code",
      "source": [
        "Unpaid_df.count()"
      ],
      "metadata": {
        "colab": {
          "base_uri": "https://localhost:8080/"
        },
        "id": "njaOsNNyIfQE",
        "outputId": "a8fc4043-0699-4320-8a94-e9456397dc00"
      },
      "execution_count": 29,
      "outputs": [
        {
          "output_type": "execute_result",
          "data": {
            "text/plain": [
              "61614"
            ]
          },
          "metadata": {},
          "execution_count": 29
        }
      ]
    },
    {
      "cell_type": "code",
      "source": [
        "Unpaid_Fivestar_df = Unpaid_df\n",
        "Unpaid_Fivestar_df.show()"
      ],
      "metadata": {
        "colab": {
          "base_uri": "https://localhost:8080/"
        },
        "id": "TmE8YNY2Iysn",
        "outputId": "c517e5ab-a1c3-4e3b-978e-99914af447e1"
      },
      "execution_count": 39,
      "outputs": [
        {
          "output_type": "stream",
          "name": "stdout",
          "text": [
            "+-----------+-----------+--------------+----------+--------------+--------------------+----------------+-----------+-------------+-----------+----+-----------------+--------------------+--------------------+-----------+----------------------------+\n",
            "|marketplace|customer_id|     review_id|product_id|product_parent|       product_title|product_category|star_rating|helpful_votes|total_votes|vine|verified_purchase|     review_headline|         review_body|review_date|helpful_dividedby_totalvotes|\n",
            "+-----------+-----------+--------------+----------+--------------+--------------------+----------------+-----------+-------------+-----------+----+-----------------+--------------------+--------------------+-----------+----------------------------+\n",
            "|         US|   37480006|R1B4753QMTD8ON|B00U6AE4BK|     632231911|Maxpedition Chubb...|          Sports|          5|           32|         32|   N|                N|Maxpedition Organ...|As a preamble, ha...| 2015-08-31|                         1.0|\n",
            "|         US|   49868087|R28BVHOEL6GCHZ|B011CCGRX8|     403987913|5 Resistance Loop...|          Sports|          5|           21|         21|   N|                Y|Excellent for Phy...|I purchased these...| 2015-08-31|                         1.0|\n",
            "|         US|    8458598|R27IB4BRKO71I0|B0062Y9BLM|     875168903|Sentry Solutions ...|          Sports|          2|           16|         20|   N|                Y|        Just dont...|So i bought this ...| 2015-08-31|                         0.8|\n",
            "|         US|   23595483| RJ86OW12Y4NRL|B00HMDLAPC|     677548322|NIKE Mercurial Li...|          Sports|          5|          124|        128|   N|                Y|My Shins Exclaim:...|I highly recommen...| 2015-08-31|                     0.96875|\n",
            "|         US|   42803974|R3KRABOWCH6ZE4|B003DQTJMI|     330329071|Mountain Man Beav...|          Sports|          1|           48|         65|   N|                Y|                WTF!|Dont get me wrong...| 2015-08-31|                  0.73846155|\n",
            "|         US|    4247498|R1OAKARA30DIWX|B00467H5YW|     440976014|Sunny Health & Fi...|          Sports|          4|           83|         89|   N|                Y|Good quality bike...|I have been spinn...| 2015-08-31|                   0.9325843|\n",
            "|         US|   25890930|R36LSV4WQ4VB1K|B010OMQSR2|     193862771|Rhino Tactical Gr...|          Sports|          5|           17|         22|   N|                N|Quality scope by ...|Though I do not o...| 2015-08-31|                  0.77272725|\n",
            "|         US|   15598507|R18BTOE5UGN7UA|B00VNYCZ78|     387735619|4007527 Desantis ...|          Sports|          5|           26|         28|   N|                Y|Weapon fits perfe...|Weapon fits perfe...| 2015-08-31|                   0.9285714|\n",
            "|         US|   37283673|R1DXLGDSK2WMLD|B00460IFPW|     200966622|Benjamin High Pre...|          Sports|          4|           22|         22|   N|                N|Don't Blame the P...|I have read many ...| 2015-08-31|                         1.0|\n",
            "|         US|     106776| RZG2OHQ12YYZI|B00DGE4BAW|      70810199|Nike Womens Pro C...|          Sports|          5|           30|         31|   N|                Y|      Very satisfied|I was sort worrie...| 2015-08-31|                   0.9677419|\n",
            "|         US|   48363662|R1ZPBQCT4DYE4Z|B00AU6EEVU|      13742267|Gamo 611009754 .1...|          Sports|          1|           45|         51|   N|                Y|Horrible Customer...|Horrible customer...| 2015-08-31|                  0.88235295|\n",
            "|         US|   15757589|R16KLPJUNC9GS7|B002ZUR0EW|     930729095|ASICS Ace Low Pro...|          Sports|          5|           20|         21|   N|                Y|My 13-year-old da...|My 13-year-old da...| 2015-08-31|                  0.95238096|\n",
            "|         US|   38169469|R3Q0414UJO4BDO|B000EZYT3K|     620569131|Century Original ...|          Sports|          1|           23|         28|   N|                Y|I have to reposit...|I've had this wav...| 2015-08-31|                   0.8214286|\n",
            "|         US|      94649| RDHDT1Z4R8IOF|B00HPQ22XK|     845220278|Vipertek VTS-195 ...|          Sports|          1|           18|         20|   N|                Y|Short-circuited o...|Short-circuited o...| 2015-08-31|                         0.9|\n",
            "|         US|   33069537|R10BO7KWZNBGL1|B00IK2U3C0|     339142563|Zumba Fitness Max...|          Sports|          4|           23|         24|   N|                Y|Very Fun -- Be Su...|You can see a qui...| 2015-08-31|                   0.9583333|\n",
            "|         US|   46178267|R1H6DQ1UXL6K8U|B00S0YA5GM|     341888516|Balaclava - Windp...|          Sports|          5|           86|         97|   N|                N|Longer Skull Cap,...|[[VIDEOID:65429b3...| 2015-08-31|                  0.88659793|\n",
            "|         US|   27447817|R1ABJ5P5XAZ9AW|B00RGAPEMQ|     421395304|Diamond Archery I...|          Sports|          5|          174|        187|   N|                N|Easy to maintain ...|This is not a spe...| 2015-08-31|                  0.93048126|\n",
            "|         US|     107674|R2RRFZ2YFSJ2OF|B012E92P16|     955885072|Storm Warrior Dou...|          Sports|          5|           27|         27|   N|                Y|awesome money wel...|It works great wi...| 2015-08-31|                         1.0|\n",
            "|         US|   19397215| RJ0T139KDORXP|B00HAMJA20|     723592737|Paracord Planet 1...|          Sports|          5|           23|         24|   N|                Y|Great product for...|This was exactly ...| 2015-08-31|                   0.9583333|\n",
            "|         US|   12646947|R30MVK7HP2DW91|B00Z8KBEBQ|     205836280|Earth Pak -Waterp...|          Sports|          5|           84|        124|   N|                Y|best quality dry ...|VERY heavy duty m...| 2015-08-31|                  0.67741936|\n",
            "+-----------+-----------+--------------+----------+--------------+--------------------+----------------+-----------+-------------+-----------+----+-----------------+--------------------+--------------------+-----------+----------------------------+\n",
            "only showing top 20 rows\n",
            "\n"
          ]
        }
      ]
    },
    {
      "cell_type": "code",
      "source": [
        "Unpaid_Fivestar_df = Unpaid_Fivestar_df.filter(Unpaid_Fivestar_df[\"star_rating\"] == 5)\n",
        "Unpaid_Fivestar_df.show()"
      ],
      "metadata": {
        "colab": {
          "base_uri": "https://localhost:8080/"
        },
        "id": "7nrxPJv9N84z",
        "outputId": "2e54d591-ea95-49fd-bc35-771d33502b8e"
      },
      "execution_count": 42,
      "outputs": [
        {
          "output_type": "stream",
          "name": "stdout",
          "text": [
            "+-----------+-----------+--------------+----------+--------------+--------------------+----------------+-----------+-------------+-----------+----+-----------------+--------------------+--------------------+-----------+----------------------------+\n",
            "|marketplace|customer_id|     review_id|product_id|product_parent|       product_title|product_category|star_rating|helpful_votes|total_votes|vine|verified_purchase|     review_headline|         review_body|review_date|helpful_dividedby_totalvotes|\n",
            "+-----------+-----------+--------------+----------+--------------+--------------------+----------------+-----------+-------------+-----------+----+-----------------+--------------------+--------------------+-----------+----------------------------+\n",
            "|         US|   37480006|R1B4753QMTD8ON|B00U6AE4BK|     632231911|Maxpedition Chubb...|          Sports|          5|           32|         32|   N|                N|Maxpedition Organ...|As a preamble, ha...| 2015-08-31|                         1.0|\n",
            "|         US|   49868087|R28BVHOEL6GCHZ|B011CCGRX8|     403987913|5 Resistance Loop...|          Sports|          5|           21|         21|   N|                Y|Excellent for Phy...|I purchased these...| 2015-08-31|                         1.0|\n",
            "|         US|   23595483| RJ86OW12Y4NRL|B00HMDLAPC|     677548322|NIKE Mercurial Li...|          Sports|          5|          124|        128|   N|                Y|My Shins Exclaim:...|I highly recommen...| 2015-08-31|                     0.96875|\n",
            "|         US|   25890930|R36LSV4WQ4VB1K|B010OMQSR2|     193862771|Rhino Tactical Gr...|          Sports|          5|           17|         22|   N|                N|Quality scope by ...|Though I do not o...| 2015-08-31|                  0.77272725|\n",
            "|         US|   15598507|R18BTOE5UGN7UA|B00VNYCZ78|     387735619|4007527 Desantis ...|          Sports|          5|           26|         28|   N|                Y|Weapon fits perfe...|Weapon fits perfe...| 2015-08-31|                   0.9285714|\n",
            "|         US|     106776| RZG2OHQ12YYZI|B00DGE4BAW|      70810199|Nike Womens Pro C...|          Sports|          5|           30|         31|   N|                Y|      Very satisfied|I was sort worrie...| 2015-08-31|                   0.9677419|\n",
            "|         US|   15757589|R16KLPJUNC9GS7|B002ZUR0EW|     930729095|ASICS Ace Low Pro...|          Sports|          5|           20|         21|   N|                Y|My 13-year-old da...|My 13-year-old da...| 2015-08-31|                  0.95238096|\n",
            "|         US|   46178267|R1H6DQ1UXL6K8U|B00S0YA5GM|     341888516|Balaclava - Windp...|          Sports|          5|           86|         97|   N|                N|Longer Skull Cap,...|[[VIDEOID:65429b3...| 2015-08-31|                  0.88659793|\n",
            "|         US|   27447817|R1ABJ5P5XAZ9AW|B00RGAPEMQ|     421395304|Diamond Archery I...|          Sports|          5|          174|        187|   N|                N|Easy to maintain ...|This is not a spe...| 2015-08-31|                  0.93048126|\n",
            "|         US|     107674|R2RRFZ2YFSJ2OF|B012E92P16|     955885072|Storm Warrior Dou...|          Sports|          5|           27|         27|   N|                Y|awesome money wel...|It works great wi...| 2015-08-31|                         1.0|\n",
            "|         US|   19397215| RJ0T139KDORXP|B00HAMJA20|     723592737|Paracord Planet 1...|          Sports|          5|           23|         24|   N|                Y|Great product for...|This was exactly ...| 2015-08-31|                   0.9583333|\n",
            "|         US|   12646947|R30MVK7HP2DW91|B00Z8KBEBQ|     205836280|Earth Pak -Waterp...|          Sports|          5|           84|        124|   N|                Y|best quality dry ...|VERY heavy duty m...| 2015-08-31|                  0.67741936|\n",
            "|         US|   11909933|  RUCON6HXM398|B010VMA83A|      47944275|Alfamo Cooling To...|          Sports|          5|          390|        403|   N|                N|Best cooling towe...|I have bought oth...| 2015-08-31|                   0.9677419|\n",
            "|         US|   14499497| R4XRDHX028RAG|B00Z8J72Q8|     205836280|Earth Pak -Waterp...|          Sports|          5|           99|        128|   N|                N|Nice Quality! Gre...|Very well constru...| 2015-08-31|                   0.7734375|\n",
            "|         US|   15615775|R37WSELYLYRBIY|B00ZUABRXO|     324438362|GoSports Giant To...|          Sports|          5|           60|         64|   N|                Y|       Great Product|I own a party ren...| 2015-08-30|                      0.9375|\n",
            "|         US|   50452994| R3PQJG19LMKIY|B013Q0451U|     101736294|Savvy Infusion Fl...|          Sports|          5|           19|         23|   N|                N|It's always hard ...|[[VIDEOID:2535b6d...| 2015-08-30|                  0.82608694|\n",
            "|         US|   14304787|R2T8ORXQ0I97QT|B00UT9RV3G|     655410490|Glock Perfection ...|          Sports|          5|           21|         21|   N|                Y|  Perfect range bag.|Well made bag. He...| 2015-08-30|                         1.0|\n",
            "|         US|   16951294|R3FZ39FVWGUSG8|B00MXNYBFW|     436029968|IC ICLOVER 47\" Ex...|          Sports|          5|           24|         27|   N|                Y|Cheap price but a...|Received the IC I...| 2015-08-30|                   0.8888889|\n",
            "|         US|   22231767|R2YB7WAQJETXQN|B00R3NNWXY|     524722037|Buck Knives 0104W...|          Sports|          5|           46|         50|   N|                Y|Does what it's ma...|Bought this after...| 2015-08-30|                        0.92|\n",
            "|         US|   17266118|R2SYXXZJNQNQOR|B00B0E1MB6|     337375436|Benchmade - Bushc...|          Sports|          5|           30|         31|   N|                Y|   Ideal Field Knife|This is a serious...| 2015-08-30|                   0.9677419|\n",
            "+-----------+-----------+--------------+----------+--------------+--------------------+----------------+-----------+-------------+-----------+----+-----------------+--------------------+--------------------+-----------+----------------------------+\n",
            "only showing top 20 rows\n",
            "\n"
          ]
        }
      ]
    },
    {
      "cell_type": "code",
      "source": [
        "Unpaid_Fivestar_df.count()"
      ],
      "metadata": {
        "colab": {
          "base_uri": "https://localhost:8080/"
        },
        "id": "EBNAlS1HOPA2",
        "outputId": "255c772c-ae54-4967-bfac-1263dd262bfd"
      },
      "execution_count": 43,
      "outputs": [
        {
          "output_type": "execute_result",
          "data": {
            "text/plain": [
              "32665"
            ]
          },
          "metadata": {},
          "execution_count": 43
        }
      ]
    },
    {
      "cell_type": "code",
      "source": [
        "# Percentage of 5-star reviews for Reviews not part of Vine Program (Unpaid)\n",
        "Unpaid_Fivestar_df.count()/Unpaid_df.count()"
      ],
      "metadata": {
        "colab": {
          "base_uri": "https://localhost:8080/"
        },
        "id": "28LcN5XZOgfp",
        "outputId": "d5bdb44d-5d6e-4840-9bfe-e2df6659fba3"
      },
      "execution_count": 45,
      "outputs": [
        {
          "output_type": "execute_result",
          "data": {
            "text/plain": [
              "0.5301554841432142"
            ]
          },
          "metadata": {},
          "execution_count": 45
        }
      ]
    }
  ],
  "metadata": {
    "colab": {
      "provenance": [],
      "include_colab_link": true
    },
    "kernelspec": {
      "display_name": "Python 3 (ipykernel)",
      "language": "python",
      "name": "python3"
    },
    "language_info": {
      "codemirror_mode": {
        "name": "ipython",
        "version": 3
      },
      "file_extension": ".py",
      "mimetype": "text/x-python",
      "name": "python",
      "nbconvert_exporter": "python",
      "pygments_lexer": "ipython3",
      "version": "3.8.13"
    },
    "nteract": {
      "version": "0.12.3"
    },
    "gpuClass": "standard"
  },
  "nbformat": 4,
  "nbformat_minor": 0
}